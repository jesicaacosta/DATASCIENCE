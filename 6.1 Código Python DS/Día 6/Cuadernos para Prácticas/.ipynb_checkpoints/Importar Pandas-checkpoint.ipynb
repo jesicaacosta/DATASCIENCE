{
 "cells": [
  {
   "cell_type": "markdown",
   "id": "df2de104",
   "metadata": {},
   "source": [
    "#### ¿Qué es Pandas?\n",
    "- **Definición**: Pandas es una biblioteca de software (paquete) que agrega funcionalidades a Python para la manipulación y el análisis de datos.\n",
    "- **Usos Principales**: Se utiliza principalmente para la limpieza de datos, análisis exploratorio, y visualización de datos estadísticos.\n",
    "\n",
    "#### Importancia de Pandas en Data Science\n",
    "- **Facilita el Manejo de Datos**: Pandas simplifica el manejo de datos, para enfocarnos en el análisis.\n",
    "- **Adaptado a Diferentes Fuentes de Datos**: Puede trabajar con una variedad de formatos de datos, como CSV, Excel, bases de datos SQL, entre otros.\n",
    "- **Esencial para Análisis de Datos**: Es una herramienta clave en cualquier flujo de trabajo de Data Science para la preparación y exploración de datos.\n",
    "\n",
    "#### Importación de Pandas\n",
    "- **¿Dónde está Pandas?**: A pesar de que Pandas no forma parte de la estructura original de Python, es una librería adicional que Anaconda instaló en nuestro ordenador al mismo momento que instaló Python.\n",
    "- **Importar Pandas**: A pesar de que ya está instalado, debes importarlo a tu entorno de trabajo (cuaderno) para utilizarlo en el código de python.\n",
    "- **Comando de importación**: ```import pandas as pd```\n",
    "\n"
   ]
  },
  {
   "cell_type": "code",
   "execution_count": 94,
   "id": "94985a38",
   "metadata": {},
   "outputs": [],
   "source": [
    "import pandas as pd #pd es como un alias estandar para cuando lo invoco solo llamo a la variable"
   ]
  },
  {
   "cell_type": "code",
   "execution_count": 59,
   "id": "dde0c99f-707d-43bd-a8c5-de287e9ed138",
   "metadata": {},
   "outputs": [
    {
     "data": {
      "text/plain": [
       "module"
      ]
     },
     "execution_count": 59,
     "metadata": {},
     "output_type": "execute_result"
    }
   ],
   "source": [
    "type(pd)"
   ]
  },
  {
   "cell_type": "markdown",
   "id": "7a272bc5-40b2-42e1-9993-435559fe8360",
   "metadata": {},
   "source": [
    "#### TIPOS DE DATOS"
   ]
  },
  {
   "cell_type": "markdown",
   "id": "de3d7c83-c700-4f51-974a-8747c7d0fa0e",
   "metadata": {},
   "source": [
    "\n",
    "- ** DATAFRAMES --> FILAS \n",
    "- ** SERIES --> COLUMNAS\n",
    "- ** Tiene dos dimensiones\n",
    "- Series: Una sola dimension, una columna. Indice y Valor."
   ]
  },
  {
   "cell_type": "code",
   "execution_count": 63,
   "id": "d0586f00-576e-4b3c-9888-063980711996",
   "metadata": {},
   "outputs": [
    {
     "data": {
      "text/plain": [
       "{'Nombre': ['Kalel', 'Maggie', 'Sila '], 'Edad': [8, 5, 9]}"
      ]
     },
     "execution_count": 63,
     "metadata": {},
     "output_type": "execute_result"
    }
   ],
   "source": [
    "dates = {\n",
    "    \"Nombre\" : [ \"Kalel\", \"Maggie\" , \"Sila \"], #KEY con una LIST de 3 ELEMENTS\n",
    "    \"Edad\" : [ 8 , 5 , 9 ]      \n",
    "}\n",
    "dates"
   ]
  },
  {
   "cell_type": "code",
   "execution_count": 65,
   "id": "ebb5984c-fc19-47a0-9697-bd08f7e31105",
   "metadata": {},
   "outputs": [
    {
     "data": {
      "text/html": [
       "<div>\n",
       "<style scoped>\n",
       "    .dataframe tbody tr th:only-of-type {\n",
       "        vertical-align: middle;\n",
       "    }\n",
       "\n",
       "    .dataframe tbody tr th {\n",
       "        vertical-align: top;\n",
       "    }\n",
       "\n",
       "    .dataframe thead th {\n",
       "        text-align: right;\n",
       "    }\n",
       "</style>\n",
       "<table border=\"1\" class=\"dataframe\">\n",
       "  <thead>\n",
       "    <tr style=\"text-align: right;\">\n",
       "      <th></th>\n",
       "      <th>Nombre</th>\n",
       "      <th>Edad</th>\n",
       "    </tr>\n",
       "  </thead>\n",
       "  <tbody>\n",
       "    <tr>\n",
       "      <th>0</th>\n",
       "      <td>Kalel</td>\n",
       "      <td>8</td>\n",
       "    </tr>\n",
       "    <tr>\n",
       "      <th>1</th>\n",
       "      <td>Maggie</td>\n",
       "      <td>5</td>\n",
       "    </tr>\n",
       "    <tr>\n",
       "      <th>2</th>\n",
       "      <td>Sila</td>\n",
       "      <td>9</td>\n",
       "    </tr>\n",
       "  </tbody>\n",
       "</table>\n",
       "</div>"
      ],
      "text/plain": [
       "   Nombre  Edad\n",
       "0   Kalel     8\n",
       "1  Maggie     5\n",
       "2   Sila      9"
      ]
     },
     "execution_count": 65,
     "metadata": {},
     "output_type": "execute_result"
    }
   ],
   "source": [
    "firstDf = pd.DataFrame(dates)\n",
    "firstDf\n"
   ]
  },
  {
   "cell_type": "code",
   "execution_count": 74,
   "id": "47275f12-38a1-4b22-aefe-aa1ece25d4d5",
   "metadata": {},
   "outputs": [
    {
     "data": {
      "text/plain": [
       "pandas.core.frame.DataFrame"
      ]
     },
     "execution_count": 74,
     "metadata": {},
     "output_type": "execute_result"
    }
   ],
   "source": [
    "type(df)"
   ]
  },
  {
   "cell_type": "code",
   "execution_count": 76,
   "id": "706a4ed9-245a-454d-af8e-b39d204be42d",
   "metadata": {},
   "outputs": [
    {
     "data": {
      "text/plain": [
       "module"
      ]
     },
     "execution_count": 76,
     "metadata": {},
     "output_type": "execute_result"
    }
   ],
   "source": [
    "type(pd)"
   ]
  },
  {
   "cell_type": "markdown",
   "id": "c284ad41-311e-46b9-af07-61408cacfaef",
   "metadata": {},
   "source": [
    "#### Series:\n",
    "Array de 1 sola dimencion, tiene etiquetas para sus elementos. Atributos y dimensiones"
   ]
  },
  {
   "cell_type": "code",
   "execution_count": 82,
   "id": "41b537d4-cb13-4d81-9d91-6ac6718db69e",
   "metadata": {},
   "outputs": [
    {
     "data": {
      "text/plain": [
       "0     Kalel\n",
       "1    Maggie\n",
       "2     Sila \n",
       "Name: Nombre, dtype: object"
      ]
     },
     "execution_count": 82,
     "metadata": {},
     "output_type": "execute_result"
    }
   ],
   "source": [
    "firstDf[\"Nombre\"]"
   ]
  },
  {
   "cell_type": "code",
   "execution_count": 86,
   "id": "aa638e54-7cd5-4280-ae98-db4ea8f93a64",
   "metadata": {},
   "outputs": [
    {
     "data": {
      "text/plain": [
       "0     Kalel\n",
       "1    Maggie\n",
       "2     Sila \n",
       "Name: Nombre, dtype: object"
      ]
     },
     "execution_count": 86,
     "metadata": {},
     "output_type": "execute_result"
    }
   ],
   "source": [
    "firstDf.Nombre"
   ]
  },
  {
   "cell_type": "code",
   "execution_count": 88,
   "id": "e972800a-1bf6-4f71-a384-d5b932657530",
   "metadata": {},
   "outputs": [
    {
     "data": {
      "text/plain": [
       "pandas.core.series.Series"
      ]
     },
     "execution_count": 88,
     "metadata": {},
     "output_type": "execute_result"
    }
   ],
   "source": [
    "type(firstDf.Nombre)"
   ]
  },
  {
   "cell_type": "code",
   "execution_count": 96,
   "id": "ad48daf2-78d2-4ad6-bc73-e682d2b03e53",
   "metadata": {},
   "outputs": [
    {
     "name": "stdout",
     "output_type": "stream",
     "text": [
      "2.2.2\n"
     ]
    }
   ],
   "source": [
    "print(pd.__version__)\n"
   ]
  }
 ],
 "metadata": {
  "kernelspec": {
   "display_name": "Python 3 (ipykernel)",
   "language": "python",
   "name": "python3"
  },
  "language_info": {
   "codemirror_mode": {
    "name": "ipython",
    "version": 3
   },
   "file_extension": ".py",
   "mimetype": "text/x-python",
   "name": "python",
   "nbconvert_exporter": "python",
   "pygments_lexer": "ipython3",
   "version": "3.12.4"
  }
 },
 "nbformat": 4,
 "nbformat_minor": 5
}
