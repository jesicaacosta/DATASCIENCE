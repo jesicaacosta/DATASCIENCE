{
 "cells": [
  {
   "cell_type": "markdown",
   "id": "cda9704e-a0a8-4b0a-b40b-8001fd3d7a11",
   "metadata": {},
   "source": [
    "Son listas INMUTABLES, una vez declaradas no se pueden modificar\n"
   ]
  },
  {
   "cell_type": "code",
   "execution_count": 48,
   "id": "987f56cb-5383-4620-a4e1-0686e0365147",
   "metadata": {},
   "outputs": [],
   "source": [
    "mi_tupla = (1,2,1,5, \"hola\", True)"
   ]
  },
  {
   "cell_type": "code",
   "execution_count": 20,
   "id": "821bb8ba-e563-43c4-af02-8a254c2c6d81",
   "metadata": {},
   "outputs": [
    {
     "data": {
      "text/plain": [
       "tuple"
      ]
     },
     "execution_count": 20,
     "metadata": {},
     "output_type": "execute_result"
    }
   ],
   "source": [
    "type(mi_tupla)"
   ]
  },
  {
   "cell_type": "code",
   "execution_count": 50,
   "id": "2f847faf-4152-41be-a826-09b563174074",
   "metadata": {},
   "outputs": [
    {
     "data": {
      "text/plain": [
       "tuple"
      ]
     },
     "execution_count": 50,
     "metadata": {},
     "output_type": "execute_result"
    }
   ],
   "source": [
    "my_tuple = 'j' , 1\n",
    "type(my_tuple)"
   ]
  },
  {
   "cell_type": "code",
   "execution_count": 52,
   "id": "0c0176f1-5e10-46c8-9a5c-75a9bd5e3506",
   "metadata": {},
   "outputs": [
    {
     "data": {
      "text/plain": [
       "1"
      ]
     },
     "execution_count": 52,
     "metadata": {},
     "output_type": "execute_result"
    }
   ],
   "source": [
    "mi_tupla.count(5)"
   ]
  },
  {
   "cell_type": "code",
   "execution_count": 54,
   "id": "4fd8d677-8b9d-4fda-8fd2-cf21fd14b8c7",
   "metadata": {},
   "outputs": [
    {
     "data": {
      "text/plain": [
       "3"
      ]
     },
     "execution_count": 54,
     "metadata": {},
     "output_type": "execute_result"
    }
   ],
   "source": [
    "mi_tupla.index(5)"
   ]
  },
  {
   "cell_type": "code",
   "execution_count": 56,
   "id": "98b34fa9-2072-444f-b046-d33fa3b8f2a3",
   "metadata": {},
   "outputs": [
    {
     "name": "stdout",
     "output_type": "stream",
     "text": [
      "True\n"
     ]
    }
   ],
   "source": [
    "print(mi_tupla[-1])"
   ]
  },
  {
   "cell_type": "code",
   "execution_count": 58,
   "id": "bf257dc2-ecac-4797-be92-e0d90b90d904",
   "metadata": {},
   "outputs": [
    {
     "data": {
      "text/plain": [
       "6"
      ]
     },
     "execution_count": 58,
     "metadata": {},
     "output_type": "execute_result"
    }
   ],
   "source": [
    "len(mi_tupla)"
   ]
  },
  {
   "cell_type": "code",
   "execution_count": 70,
   "id": "a7ae5441-c858-45f7-9b10-3f3fb159b7c2",
   "metadata": {},
   "outputs": [
    {
     "data": {
      "text/plain": [
       "'hola'"
      ]
     },
     "execution_count": 70,
     "metadata": {},
     "output_type": "execute_result"
    }
   ],
   "source": [
    "a,b,c,d,e,f = mi_tupla #desempaquetado de tuipla asignado a variables\n",
    "e"
   ]
  },
  {
   "cell_type": "code",
   "execution_count": 74,
   "id": "8f375659-74d1-4dbd-b7d7-1142747d9083",
   "metadata": {},
   "outputs": [
    {
     "data": {
      "text/plain": [
       "(('Jesica', 'Acosta'), (27, 1, 1994))"
      ]
     },
     "execution_count": 74,
     "metadata": {},
     "output_type": "execute_result"
    }
   ],
   "source": [
    "nacimiento = ( 27, 1, 1994)\n",
    "nombre = ( 'Jesica' , 'Acosta' ) \n",
    "\n",
    "jes = (nombre, nacimiento)\n",
    "jes\n"
   ]
  },
  {
   "cell_type": "code",
   "execution_count": 78,
   "id": "19685334-3962-4c0f-aeaf-d3a1148dc493",
   "metadata": {},
   "outputs": [
    {
     "data": {
      "text/plain": [
       "'Acosta'"
      ]
     },
     "execution_count": 78,
     "metadata": {},
     "output_type": "execute_result"
    }
   ],
   "source": [
    "jes[0][1]"
   ]
  },
  {
   "cell_type": "markdown",
   "id": "24576c42-d56d-427c-84fe-4f997cabb5bd",
   "metadata": {},
   "source": [
    "Las tuplas, al ser inmutables, requieren menos espacio de almacenamiento que las listas. Python puede almacenar las tuplas en un solo bloque de memoria porque sabe que su tamaño no va a cambiar una vez que se crean."
   ]
  },
  {
   "cell_type": "code",
   "execution_count": 81,
   "id": "392823ce-2785-4604-a497-fcc5be8df9e2",
   "metadata": {},
   "outputs": [
    {
     "data": {
      "text/plain": [
       "('Ford', 'Fiesta ', 'Rojo', 2021)"
      ]
     },
     "execution_count": 81,
     "metadata": {},
     "output_type": "execute_result"
    }
   ],
   "source": [
    "auto = ( 'Ford' , 'Fiesta ' , 'Rojo', 2021)\n",
    "auto"
   ]
  },
  {
   "cell_type": "code",
   "execution_count": 83,
   "id": "998c56c7-ffb2-4359-bc0b-38e770b31c92",
   "metadata": {},
   "outputs": [],
   "source": [
    "(Marca, Tipo, Color, Modelo) = auto"
   ]
  },
  {
   "cell_type": "code",
   "execution_count": 93,
   "id": "5e22d841-19d5-4900-ac6d-a35063487723",
   "metadata": {},
   "outputs": [
    {
     "data": {
      "text/plain": [
       "('Ford', 'Fiesta ')"
      ]
     },
     "execution_count": 93,
     "metadata": {},
     "output_type": "execute_result"
    }
   ],
   "source": [
    "Marca, Tipo "
   ]
  },
  {
   "cell_type": "code",
   "execution_count": null,
   "id": "8a0d6bca-b1a8-45c4-b6f5-278520ffb95f",
   "metadata": {},
   "outputs": [],
   "source": []
  }
 ],
 "metadata": {
  "kernelspec": {
   "display_name": "Python 3 (ipykernel)",
   "language": "python",
   "name": "python3"
  },
  "language_info": {
   "codemirror_mode": {
    "name": "ipython",
    "version": 3
   },
   "file_extension": ".py",
   "mimetype": "text/x-python",
   "name": "python",
   "nbconvert_exporter": "python",
   "pygments_lexer": "ipython3",
   "version": "3.12.4"
  }
 },
 "nbformat": 4,
 "nbformat_minor": 5
}
