{
 "cells": [
  {
   "cell_type": "markdown",
   "id": "8b75ea3a-2600-46cb-8f3e-9d284b3ede6b",
   "metadata": {},
   "source": [
    "Estructuras de datos que almacenan pares de clave-valor. "
   ]
  },
  {
   "cell_type": "code",
   "execution_count": 3,
   "id": "f4ee19f8-0320-49e4-bff9-c7c7c05e32ad",
   "metadata": {},
   "outputs": [
    {
     "data": {
      "text/plain": [
       "dict"
      ]
     },
     "execution_count": 3,
     "metadata": {},
     "output_type": "execute_result"
    }
   ],
   "source": [
    "dicc = {} #declaro dictionary vacio\n",
    "type(dicc)"
   ]
  },
  {
   "cell_type": "code",
   "execution_count": 44,
   "id": "16e47ea1-4414-423e-88bc-41b840d28b91",
   "metadata": {},
   "outputs": [],
   "source": [
    "diccionario = {\n",
    "    \"nombre\": \"Jesica\", #clave nombre, valor Jesica\n",
    "    \"edad\": 25, #Cada clave en un diccionario debe ser única\n",
    "    \"ciudad\": \"Buenos Aires\"\n",
    "}\n"
   ]
  },
  {
   "cell_type": "code",
   "execution_count": 46,
   "id": "63bd89b6-dcc0-437a-b53c-a0f2e2c688f6",
   "metadata": {},
   "outputs": [
    {
     "data": {
      "text/plain": [
       "3"
      ]
     },
     "execution_count": 46,
     "metadata": {},
     "output_type": "execute_result"
    }
   ],
   "source": [
    "len (diccionario)"
   ]
  },
  {
   "cell_type": "code",
   "execution_count": 14,
   "id": "755ca52d-571c-448c-bea6-ea0e90757929",
   "metadata": {},
   "outputs": [
    {
     "data": {
      "text/plain": [
       "25"
      ]
     },
     "execution_count": 14,
     "metadata": {},
     "output_type": "execute_result"
    }
   ],
   "source": [
    "#no son indexados, se invocan con su clave \n",
    "diccionario[\"edad\"]"
   ]
  },
  {
   "cell_type": "code",
   "execution_count": 50,
   "id": "3233303b-03d5-430c-844b-3cf5aadc4415",
   "metadata": {},
   "outputs": [
    {
     "data": {
      "text/plain": [
       "{'nombre': 'Jesica',\n",
       " 'edad': 30,\n",
       " 'ciudad': 'Buenos Aires',\n",
       " 'Profesion': 'Programadora'}"
      ]
     },
     "execution_count": 50,
     "metadata": {},
     "output_type": "execute_result"
    }
   ],
   "source": [
    "diccionario[\"edad\"] = 30\n",
    "diccionario"
   ]
  },
  {
   "cell_type": "code",
   "execution_count": 48,
   "id": "ee5a7bb6-c181-4ca2-baad-f42851ab5564",
   "metadata": {},
   "outputs": [
    {
     "data": {
      "text/plain": [
       "{'nombre': 'Jesica',\n",
       " 'edad': 25,\n",
       " 'ciudad': 'Buenos Aires',\n",
       " 'Profesion': 'Programadora'}"
      ]
     },
     "execution_count": 48,
     "metadata": {},
     "output_type": "execute_result"
    }
   ],
   "source": [
    "diccionario[\"Profesion\"] = \"Programadora\" #Agrego un nuevo par clave-valor:\n",
    "diccionario"
   ]
  },
  {
   "cell_type": "code",
   "execution_count": 26,
   "id": "7c86b0ca-9639-4261-82c8-67059e12d4af",
   "metadata": {},
   "outputs": [
    {
     "data": {
      "text/plain": [
       "['__class__',\n",
       " '__class_getitem__',\n",
       " '__contains__',\n",
       " '__delattr__',\n",
       " '__delitem__',\n",
       " '__dir__',\n",
       " '__doc__',\n",
       " '__eq__',\n",
       " '__format__',\n",
       " '__ge__',\n",
       " '__getattribute__',\n",
       " '__getitem__',\n",
       " '__getstate__',\n",
       " '__gt__',\n",
       " '__hash__',\n",
       " '__init__',\n",
       " '__init_subclass__',\n",
       " '__ior__',\n",
       " '__iter__',\n",
       " '__le__',\n",
       " '__len__',\n",
       " '__lt__',\n",
       " '__ne__',\n",
       " '__new__',\n",
       " '__or__',\n",
       " '__reduce__',\n",
       " '__reduce_ex__',\n",
       " '__repr__',\n",
       " '__reversed__',\n",
       " '__ror__',\n",
       " '__setattr__',\n",
       " '__setitem__',\n",
       " '__sizeof__',\n",
       " '__str__',\n",
       " '__subclasshook__',\n",
       " 'clear',\n",
       " 'copy',\n",
       " 'fromkeys',\n",
       " 'get',\n",
       " 'items',\n",
       " 'keys',\n",
       " 'pop',\n",
       " 'popitem',\n",
       " 'setdefault',\n",
       " 'update',\n",
       " 'values']"
      ]
     },
     "execution_count": 26,
     "metadata": {},
     "output_type": "execute_result"
    }
   ],
   "source": [
    "dir(diccionario)"
   ]
  },
  {
   "cell_type": "code",
   "execution_count": 64,
   "id": "8a3c9c15-aa56-46ec-9814-d968041cf5f1",
   "metadata": {},
   "outputs": [
    {
     "data": {
      "text/plain": [
       "dict_keys(['nombre', 'edad', 'ciudad', 'Profesion'])"
      ]
     },
     "execution_count": 64,
     "metadata": {},
     "output_type": "execute_result"
    }
   ],
   "source": [
    "diccionario.keys() #me muestra las claves con valor"
   ]
  },
  {
   "cell_type": "code",
   "execution_count": 62,
   "id": "0fc0f439-6b77-4cab-9ff6-2d7ff5bb3d09",
   "metadata": {},
   "outputs": [
    {
     "data": {
      "text/plain": [
       "dict_items([('nombre', 'Jesica'), ('edad', 30), ('ciudad', 'Buenos Aires'), ('Profesion', 'Programadora')])"
      ]
     },
     "execution_count": 62,
     "metadata": {},
     "output_type": "execute_result"
    }
   ],
   "source": [
    "diccionario.items()"
   ]
  },
  {
   "cell_type": "code",
   "execution_count": 66,
   "id": "bd8ce442-4f8c-4e2f-8890-abc6bb736079",
   "metadata": {},
   "outputs": [
    {
     "data": {
      "text/plain": [
       "'Jesica'"
      ]
     },
     "execution_count": 66,
     "metadata": {},
     "output_type": "execute_result"
    }
   ],
   "source": [
    "diccionario.get(\"nombre\")"
   ]
  },
  {
   "cell_type": "code",
   "execution_count": 78,
   "id": "1ca2a1a4-7b81-4652-ba5c-d76111cd727a",
   "metadata": {},
   "outputs": [],
   "source": [
    "diccionario.update({\"nombre\": 'Jesica Daiana'}) #actualizo el valor "
   ]
  },
  {
   "cell_type": "code",
   "execution_count": 76,
   "id": "c0c01ce4-7f83-4024-b1d5-405bbe79f69e",
   "metadata": {},
   "outputs": [
    {
     "data": {
      "text/plain": [
       "{'nombre': 'Jesica Daiana',\n",
       " 'edad': 30,\n",
       " 'ciudad': 'Buenos Aires',\n",
       " 'Profesion': 'Programadora'}"
      ]
     },
     "execution_count": 76,
     "metadata": {},
     "output_type": "execute_result"
    }
   ],
   "source": [
    "diccionario"
   ]
  },
  {
   "cell_type": "code",
   "execution_count": null,
   "id": "11fac68b-0cd6-4c9f-86cb-a16a04ede229",
   "metadata": {},
   "outputs": [],
   "source": []
  }
 ],
 "metadata": {
  "kernelspec": {
   "display_name": "Python 3 (ipykernel)",
   "language": "python",
   "name": "python3"
  },
  "language_info": {
   "codemirror_mode": {
    "name": "ipython",
    "version": 3
   },
   "file_extension": ".py",
   "mimetype": "text/x-python",
   "name": "python",
   "nbconvert_exporter": "python",
   "pygments_lexer": "ipython3",
   "version": "3.12.4"
  }
 },
 "nbformat": 4,
 "nbformat_minor": 5
}
