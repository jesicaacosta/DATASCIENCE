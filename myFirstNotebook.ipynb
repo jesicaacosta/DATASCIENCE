{
 "cells": [
  {
   "cell_type": "code",
   "execution_count": 1,
   "id": "6cf09973-74a0-4258-a8a6-c609d266957a",
   "metadata": {},
   "outputs": [],
   "source": [
    "bebe = 'Magu'"
   ]
  },
  {
   "cell_type": "code",
   "execution_count": 3,
   "id": "3ec1a0c8-68b4-4087-9381-1b602ca70a11",
   "metadata": {},
   "outputs": [
    {
     "name": "stdout",
     "output_type": "stream",
     "text": [
      "Magu\n"
     ]
    }
   ],
   "source": [
    "print(bebe)"
   ]
  },
  {
   "cell_type": "code",
   "execution_count": 5,
   "id": "293c81f1-fa24-4c1b-b199-0df584db1630",
   "metadata": {},
   "outputs": [
    {
     "data": {
      "text/plain": [
       "33687"
      ]
     },
     "execution_count": 5,
     "metadata": {},
     "output_type": "execute_result"
    }
   ],
   "source": [
    "20193 + 13494 "
   ]
  },
  {
   "cell_type": "markdown",
   "id": "45552773-1a12-482d-937e-6106a4a59f14",
   "metadata": {},
   "source": [
    "texto para aclarar , MARKDOWN"
   ]
  },
  {
   "cell_type": "markdown",
   "id": "c37ab1c0-6118-4872-818a-a11696fe9992",
   "metadata": {},
   "source": [
    "Este es un cuadrno #TITULO ##TITULO"
   ]
  },
  {
   "cell_type": "markdown",
   "id": "a0fd9026-4c6d-474e-a27b-21e46edb7e64",
   "metadata": {},
   "source": [
    "#TITULO ##TITULO"
   ]
  },
  {
   "cell_type": "code",
   "execution_count": null,
   "id": "9edf95eb-0836-45b2-b8bc-85b9d3c9ebdb",
   "metadata": {},
   "outputs": [],
   "source": []
  }
 ],
 "metadata": {
  "kernelspec": {
   "display_name": "Python 3 (ipykernel)",
   "language": "python",
   "name": "python3"
  },
  "language_info": {
   "codemirror_mode": {
    "name": "ipython",
    "version": 3
   },
   "file_extension": ".py",
   "mimetype": "text/x-python",
   "name": "python",
   "nbconvert_exporter": "python",
   "pygments_lexer": "ipython3",
   "version": "3.12.4"
  }
 },
 "nbformat": 4,
 "nbformat_minor": 5
}
