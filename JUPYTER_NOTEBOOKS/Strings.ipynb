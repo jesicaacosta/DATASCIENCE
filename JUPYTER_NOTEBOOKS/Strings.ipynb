{
 "cells": [
  {
   "cell_type": "code",
   "execution_count": 15,
   "id": "9482ca3a-24ce-45c4-b0e6-2e024a6b4b6e",
   "metadata": {},
   "outputs": [],
   "source": [
    "palabra = 'j3'"
   ]
  },
  {
   "cell_type": "code",
   "execution_count": 11,
   "id": "eadc9d9d-2600-4534-888d-462f4ebd9213",
   "metadata": {},
   "outputs": [],
   "source": [
    "palabra = palabra + 'UX'"
   ]
  },
  {
   "cell_type": "code",
   "execution_count": 17,
   "id": "17ed405d-16bc-4d3d-ad8b-f0791e293f9d",
   "metadata": {},
   "outputs": [
    {
     "name": "stdout",
     "output_type": "stream",
     "text": [
      "j3\n"
     ]
    }
   ],
   "source": [
    "print(palabra)"
   ]
  },
  {
   "cell_type": "code",
   "execution_count": 7,
   "id": "55dbe00d-8848-4aef-acf7-ceb72463ef21",
   "metadata": {},
   "outputs": [
    {
     "data": {
      "text/plain": [
       "str"
      ]
     },
     "execution_count": 7,
     "metadata": {},
     "output_type": "execute_result"
    }
   ],
   "source": [
    "type(palabra)"
   ]
  },
  {
   "cell_type": "code",
   "execution_count": 19,
   "id": "21e3b31b-2a84-4262-9b71-7a445cb9478b",
   "metadata": {},
   "outputs": [
    {
     "data": {
      "text/plain": [
       "'J3'"
      ]
     },
     "execution_count": 19,
     "metadata": {},
     "output_type": "execute_result"
    }
   ],
   "source": [
    "palabra.upper()"
   ]
  },
  {
   "cell_type": "markdown",
   "id": "d3de6c3d-13a3-4ec9-84dd-e1caf59d75da",
   "metadata": {},
   "source": [
    "objeto.TAB --> ME MUESTRA LA LISTA DE METODOS DEL OBJETO. UNA VEZ ELEJIDO PRESIONO SHIFT + TAB me muestra como funciona el metodo"
   ]
  },
  {
   "cell_type": "code",
   "execution_count": 41,
   "id": "7a268bb4-e352-4435-90da-fe1b796803b4",
   "metadata": {},
   "outputs": [],
   "source": [
    "j = 'jesica daiana'"
   ]
  },
  {
   "cell_type": "code",
   "execution_count": 45,
   "id": "fc5126c3-dbe7-43bd-a5fa-516f3d92a28f",
   "metadata": {},
   "outputs": [
    {
     "data": {
      "text/plain": [
       "'Jesica daiana'"
      ]
     },
     "execution_count": 45,
     "metadata": {},
     "output_type": "execute_result"
    }
   ],
   "source": [
    "j.capitalize()"
   ]
  },
  {
   "cell_type": "markdown",
   "id": "73b4a175-271f-4897-82eb-7496ac131ee5",
   "metadata": {},
   "source": [
    "Devuelve una copia del string porque los strings son INMUTABLES, LO QUE PUEDO ES GUARDAR EN UNA NEW VARIABLE"
   ]
  },
  {
   "cell_type": "code",
   "execution_count": 43,
   "id": "91911132-7ad3-4154-971f-9f2034bcb11f",
   "metadata": {},
   "outputs": [
    {
     "name": "stdout",
     "output_type": "stream",
     "text": [
      "jesica daiana\n",
      "JESICA DAIANA\n"
     ]
    }
   ],
   "source": [
    "print(j)\n",
    "nuevoJ = j.upper()\n",
    "print(nuevoJ)"
   ]
  },
  {
   "cell_type": "code",
   "execution_count": 47,
   "id": "7b9722f4-5f7b-4c7b-99d5-126e2aaaa23f",
   "metadata": {},
   "outputs": [
    {
     "data": {
      "text/plain": [
       "['__add__',\n",
       " '__class__',\n",
       " '__contains__',\n",
       " '__delattr__',\n",
       " '__dir__',\n",
       " '__doc__',\n",
       " '__eq__',\n",
       " '__format__',\n",
       " '__ge__',\n",
       " '__getattribute__',\n",
       " '__getitem__',\n",
       " '__getnewargs__',\n",
       " '__getstate__',\n",
       " '__gt__',\n",
       " '__hash__',\n",
       " '__init__',\n",
       " '__init_subclass__',\n",
       " '__iter__',\n",
       " '__le__',\n",
       " '__len__',\n",
       " '__lt__',\n",
       " '__mod__',\n",
       " '__mul__',\n",
       " '__ne__',\n",
       " '__new__',\n",
       " '__reduce__',\n",
       " '__reduce_ex__',\n",
       " '__repr__',\n",
       " '__rmod__',\n",
       " '__rmul__',\n",
       " '__setattr__',\n",
       " '__sizeof__',\n",
       " '__str__',\n",
       " '__subclasshook__',\n",
       " 'capitalize',\n",
       " 'casefold',\n",
       " 'center',\n",
       " 'count',\n",
       " 'encode',\n",
       " 'endswith',\n",
       " 'expandtabs',\n",
       " 'find',\n",
       " 'format',\n",
       " 'format_map',\n",
       " 'index',\n",
       " 'isalnum',\n",
       " 'isalpha',\n",
       " 'isascii',\n",
       " 'isdecimal',\n",
       " 'isdigit',\n",
       " 'isidentifier',\n",
       " 'islower',\n",
       " 'isnumeric',\n",
       " 'isprintable',\n",
       " 'isspace',\n",
       " 'istitle',\n",
       " 'isupper',\n",
       " 'join',\n",
       " 'ljust',\n",
       " 'lower',\n",
       " 'lstrip',\n",
       " 'maketrans',\n",
       " 'partition',\n",
       " 'removeprefix',\n",
       " 'removesuffix',\n",
       " 'replace',\n",
       " 'rfind',\n",
       " 'rindex',\n",
       " 'rjust',\n",
       " 'rpartition',\n",
       " 'rsplit',\n",
       " 'rstrip',\n",
       " 'split',\n",
       " 'splitlines',\n",
       " 'startswith',\n",
       " 'strip',\n",
       " 'swapcase',\n",
       " 'title',\n",
       " 'translate',\n",
       " 'upper',\n",
       " 'zfill']"
      ]
     },
     "execution_count": 47,
     "metadata": {},
     "output_type": "execute_result"
    }
   ],
   "source": [
    "dir(j)"
   ]
  },
  {
   "cell_type": "markdown",
   "id": "029b48cd-1c4c-4471-82bf-8cbb2c299167",
   "metadata": {},
   "source": [
    "help.(objeto.metodo) me ayuda con el metodo "
   ]
  },
  {
   "cell_type": "code",
   "execution_count": 54,
   "id": "ad797b6c-fd2f-4f89-8271-8896e5144c86",
   "metadata": {},
   "outputs": [
    {
     "name": "stdout",
     "output_type": "stream",
     "text": [
      "Help on built-in function casefold:\n",
      "\n",
      "casefold() method of builtins.str instance\n",
      "    Return a version of the string suitable for caseless comparisons.\n",
      "\n"
     ]
    }
   ],
   "source": [
    "help(j.casefold)\n"
   ]
  },
  {
   "cell_type": "code",
   "execution_count": 58,
   "id": "bdc438f1-54ee-4579-8487-efaf4ee1f74d",
   "metadata": {},
   "outputs": [
    {
     "data": {
      "text/plain": [
       "'Jesica daiana'"
      ]
     },
     "execution_count": 58,
     "metadata": {},
     "output_type": "execute_result"
    }
   ],
   "source": [
    "str.capitalize(j)"
   ]
  },
  {
   "cell_type": "markdown",
   "id": "66eebe73-1971-4cf3-b94a-e5d774e75687",
   "metadata": {},
   "source": [
    "INDEXAR STRINGS"
   ]
  },
  {
   "cell_type": "code",
   "execution_count": 63,
   "id": "41da5254-90c1-44a1-87f7-8312b49c436e",
   "metadata": {},
   "outputs": [
    {
     "name": "stdout",
     "output_type": "stream",
     "text": [
      "MANZANA\n"
     ]
    }
   ],
   "source": [
    "fru = 'MANZANA'\n",
    "print(fru)"
   ]
  },
  {
   "cell_type": "code",
   "execution_count": 65,
   "id": "b852ab87-7d60-4bf7-ae7c-ed5cec15c89d",
   "metadata": {},
   "outputs": [
    {
     "data": {
      "text/plain": [
       "'A'"
      ]
     },
     "execution_count": 65,
     "metadata": {},
     "output_type": "execute_result"
    }
   ],
   "source": [
    "fru[1]"
   ]
  },
  {
   "cell_type": "code",
   "execution_count": 69,
   "id": "2a94e23b-c65d-4216-8f09-82f88ed39fb0",
   "metadata": {},
   "outputs": [
    {
     "data": {
      "text/plain": [
       "'A'"
      ]
     },
     "execution_count": 69,
     "metadata": {},
     "output_type": "execute_result"
    }
   ],
   "source": [
    "fru[-1]"
   ]
  },
  {
   "cell_type": "code",
   "execution_count": 71,
   "id": "35835c63-e895-4557-867e-00589cd16004",
   "metadata": {},
   "outputs": [],
   "source": [
    "frutita = 'Banana'"
   ]
  },
  {
   "cell_type": "code",
   "execution_count": 77,
   "id": "2fe0e235-43ef-4451-b4e1-2ca38e4873e7",
   "metadata": {},
   "outputs": [
    {
     "data": {
      "text/plain": [
       "'Ban'"
      ]
     },
     "execution_count": 77,
     "metadata": {},
     "output_type": "execute_result"
    }
   ],
   "source": [
    "frutita[ 0 : 3] #segmento del string"
   ]
  },
  {
   "cell_type": "code",
   "execution_count": 79,
   "id": "f3888cab-a9ae-4731-9ca5-f122416ffd6b",
   "metadata": {},
   "outputs": [
    {
     "data": {
      "text/plain": [
       "'Ban'"
      ]
     },
     "execution_count": 79,
     "metadata": {},
     "output_type": "execute_result"
    }
   ],
   "source": [
    "frutita[  : 3] #segmento del string"
   ]
  },
  {
   "cell_type": "code",
   "execution_count": 89,
   "id": "c899b89c-5824-460b-90e4-0b47b064df41",
   "metadata": {},
   "outputs": [
    {
     "data": {
      "text/plain": [
       "'Bn'"
      ]
     },
     "execution_count": 89,
     "metadata": {},
     "output_type": "execute_result"
    }
   ],
   "source": [
    "frutita[ 0: 4 :2 ]"
   ]
  },
  {
   "cell_type": "code",
   "execution_count": 91,
   "id": "282c4107-d656-4d81-b610-ad8fabb92d24",
   "metadata": {},
   "outputs": [
    {
     "data": {
      "text/plain": [
       "'Bnn'"
      ]
     },
     "execution_count": 91,
     "metadata": {},
     "output_type": "execute_result"
    }
   ],
   "source": [
    "frutita[ 0:  20 :2 ]"
   ]
  },
  {
   "cell_type": "code",
   "execution_count": 97,
   "id": "add65d27-7a36-4c1e-8d06-8522d6d9d9ff",
   "metadata": {},
   "outputs": [
    {
     "data": {
      "text/plain": [
       "'ftl'"
      ]
     },
     "execution_count": 97,
     "metadata": {},
     "output_type": "execute_result"
    }
   ],
   "source": [
    "f='frutilla'\n",
    "f[::3]"
   ]
  },
  {
   "cell_type": "code",
   "execution_count": 101,
   "id": "1f5019c5-2664-4de9-9411-4ed6950789a7",
   "metadata": {},
   "outputs": [
    {
     "data": {
      "text/plain": [
       "'FTL'"
      ]
     },
     "execution_count": 101,
     "metadata": {},
     "output_type": "execute_result"
    }
   ],
   "source": [
    "f[::3].upper()"
   ]
  },
  {
   "cell_type": "code",
   "execution_count": 103,
   "id": "e60fa2ea-244d-45b7-ae5d-cd521d9660f3",
   "metadata": {},
   "outputs": [
    {
     "data": {
      "text/plain": [
       "str"
      ]
     },
     "execution_count": 103,
     "metadata": {},
     "output_type": "execute_result"
    }
   ],
   "source": [
    "myString = \"Negra Magachula\"\n",
    "type(myString)"
   ]
  },
  {
   "cell_type": "code",
   "execution_count": 105,
   "id": "fb099e16-a015-4779-a161-0ea3c9815350",
   "metadata": {
    "scrolled": true
   },
   "outputs": [
    {
     "data": {
      "text/plain": [
       "['__add__',\n",
       " '__class__',\n",
       " '__contains__',\n",
       " '__delattr__',\n",
       " '__dir__',\n",
       " '__doc__',\n",
       " '__eq__',\n",
       " '__format__',\n",
       " '__ge__',\n",
       " '__getattribute__',\n",
       " '__getitem__',\n",
       " '__getnewargs__',\n",
       " '__getstate__',\n",
       " '__gt__',\n",
       " '__hash__',\n",
       " '__init__',\n",
       " '__init_subclass__',\n",
       " '__iter__',\n",
       " '__le__',\n",
       " '__len__',\n",
       " '__lt__',\n",
       " '__mod__',\n",
       " '__mul__',\n",
       " '__ne__',\n",
       " '__new__',\n",
       " '__reduce__',\n",
       " '__reduce_ex__',\n",
       " '__repr__',\n",
       " '__rmod__',\n",
       " '__rmul__',\n",
       " '__setattr__',\n",
       " '__sizeof__',\n",
       " '__str__',\n",
       " '__subclasshook__',\n",
       " 'capitalize',\n",
       " 'casefold',\n",
       " 'center',\n",
       " 'count',\n",
       " 'encode',\n",
       " 'endswith',\n",
       " 'expandtabs',\n",
       " 'find',\n",
       " 'format',\n",
       " 'format_map',\n",
       " 'index',\n",
       " 'isalnum',\n",
       " 'isalpha',\n",
       " 'isascii',\n",
       " 'isdecimal',\n",
       " 'isdigit',\n",
       " 'isidentifier',\n",
       " 'islower',\n",
       " 'isnumeric',\n",
       " 'isprintable',\n",
       " 'isspace',\n",
       " 'istitle',\n",
       " 'isupper',\n",
       " 'join',\n",
       " 'ljust',\n",
       " 'lower',\n",
       " 'lstrip',\n",
       " 'maketrans',\n",
       " 'partition',\n",
       " 'removeprefix',\n",
       " 'removesuffix',\n",
       " 'replace',\n",
       " 'rfind',\n",
       " 'rindex',\n",
       " 'rjust',\n",
       " 'rpartition',\n",
       " 'rsplit',\n",
       " 'rstrip',\n",
       " 'split',\n",
       " 'splitlines',\n",
       " 'startswith',\n",
       " 'strip',\n",
       " 'swapcase',\n",
       " 'title',\n",
       " 'translate',\n",
       " 'upper',\n",
       " 'zfill']"
      ]
     },
     "execution_count": 105,
     "metadata": {},
     "output_type": "execute_result"
    }
   ],
   "source": [
    "dir(myString)"
   ]
  },
  {
   "cell_type": "code",
   "execution_count": 111,
   "id": "edfc31bd-283d-4983-9480-cf72b730244b",
   "metadata": {},
   "outputs": [
    {
     "name": "stdout",
     "output_type": "stream",
     "text": [
      "Help on built-in function count:\n",
      "\n",
      "count(...) method of builtins.str instance\n",
      "    S.count(sub[, start[, end]]) -> int\n",
      "\n",
      "    Return the number of non-overlapping occurrences of substring sub in\n",
      "    string S[start:end].  Optional arguments start and end are\n",
      "    interpreted as in slice notation.\n",
      "\n"
     ]
    }
   ],
   "source": [
    "help(myString.count)"
   ]
  },
  {
   "cell_type": "code",
   "execution_count": 115,
   "id": "2dc4720a-8366-4515-96c3-8e252eeb21a8",
   "metadata": {},
   "outputs": [
    {
     "data": {
      "text/plain": [
       "4"
      ]
     },
     "execution_count": 115,
     "metadata": {},
     "output_type": "execute_result"
    }
   ],
   "source": [
    "myString.count('a') #cuantas veces aparece 'a' en el obejeto myString\n"
   ]
  },
  {
   "cell_type": "code",
   "execution_count": 183,
   "id": "dc9596b9-f151-4870-bac1-31da7c7b72d4",
   "metadata": {},
   "outputs": [
    {
     "data": {
      "text/plain": [
       "1"
      ]
     },
     "execution_count": 183,
     "metadata": {},
     "output_type": "execute_result"
    }
   ],
   "source": [
    "frase = ' Nuestras cicatrices nos hacen saber que nuestro pasado fue real '\n",
    "frase.count('cicatrices') #Return number of occurrences of value."
   ]
  },
  {
   "cell_type": "code",
   "execution_count": 191,
   "id": "0df128cc-21b0-4ae0-8ac0-356b6925f187",
   "metadata": {},
   "outputs": [
    {
     "data": {
      "text/plain": [
       "12"
      ]
     },
     "execution_count": 191,
     "metadata": {},
     "output_type": "execute_result"
    }
   ],
   "source": [
    "frase.count(\" \") + 1 #cuenta ocuurrencia de \" \" + 1 "
   ]
  },
  {
   "cell_type": "code",
   "execution_count": 193,
   "id": "3e1af45b-5ef3-48c2-929a-ff8fecdb6d5f",
   "metadata": {},
   "outputs": [
    {
     "data": {
      "text/plain": [
       "'Nuestras cicatrices nos hacen saber que nuestro pasado fue real'"
      ]
     },
     "execution_count": 193,
     "metadata": {},
     "output_type": "execute_result"
    }
   ],
   "source": [
    "frase.strip()    #Return a copy of the string with leading and trailing whitespace removed.\n"
   ]
  },
  {
   "cell_type": "code",
   "execution_count": 195,
   "id": "68769582-e4cf-44ea-9a83-d214df365c41",
   "metadata": {},
   "outputs": [
    {
     "data": {
      "text/plain": [
       "10"
      ]
     },
     "execution_count": 195,
     "metadata": {},
     "output_type": "execute_result"
    }
   ],
   "source": [
    "frase.strip().count(\" \") + 1 #desarmo el string, .count cuenta los espacios y le suma 1"
   ]
  },
  {
   "cell_type": "code",
   "execution_count": 197,
   "id": "cfbf9937-89ac-49d3-89b8-39a59e77de4c",
   "metadata": {},
   "outputs": [
    {
     "data": {
      "text/plain": [
       "['Nuestras',\n",
       " 'cicatrices',\n",
       " 'nos',\n",
       " 'hacen',\n",
       " 'saber',\n",
       " 'que',\n",
       " 'nuestro',\n",
       " 'pasado',\n",
       " 'fue',\n",
       " 'real']"
      ]
     },
     "execution_count": 197,
     "metadata": {},
     "output_type": "execute_result"
    }
   ],
   "source": [
    "frase.split() #    Return a list of the substrings in the string, using sep as the separator string."
   ]
  },
  {
   "cell_type": "code",
   "execution_count": 199,
   "id": "25a6698e-888c-4cc5-b69a-269a6da9ad17",
   "metadata": {},
   "outputs": [
    {
     "name": "stdin",
     "output_type": "stream",
     "text": [
      "Hola jhjh\n"
     ]
    },
    {
     "data": {
      "text/plain": [
       "'jhjh'"
      ]
     },
     "execution_count": 199,
     "metadata": {},
     "output_type": "execute_result"
    }
   ],
   "source": [
    "input('Hola')"
   ]
  },
  {
   "cell_type": "code",
   "execution_count": 227,
   "id": "cb0cdb3b-95f3-4338-847d-9320f0d5c7c7",
   "metadata": {},
   "outputs": [
    {
     "name": "stdin",
     "output_type": "stream",
     "text": [
      " Ingresa tu edad  55\n"
     ]
    },
    {
     "name": "stdout",
     "output_type": "stream",
     "text": [
      "<class 'int'>\n",
      " Naciste en el año 1969\n",
      "<class 'int'>\n"
     ]
    }
   ],
   "source": [
    "ingresoUsuario = int(input (' Ingresa tu edad '))\n",
    "print(type(ingresoUsuario))\n",
    "anio = 2024 - ingresoUsuario \n",
    "print(' Naciste en el año '+ str(anio))\n",
    "print(type (anio))\n"
   ]
  },
  {
   "cell_type": "code",
   "execution_count": 231,
   "id": "ab2f058d-b948-4c54-bf69-b0afce15dd5b",
   "metadata": {},
   "outputs": [
    {
     "data": {
      "text/plain": [
       "'Magui tiene 5 años y es de color negrita'"
      ]
     },
     "execution_count": 231,
     "metadata": {},
     "output_type": "execute_result"
    }
   ],
   "source": [
    "nombre = 'Magui'\n",
    "edad = 5\n",
    "color = 'negrita'\n",
    "\n",
    "descr = '{} tiene {} años y es de color {}'.format(nombre, edad, color) #metodo de strings .format\n",
    "descr"
   ]
  },
  {
   "cell_type": "code",
   "execution_count": 235,
   "id": "b1562934-f281-45da-860e-4782a2e7e2d7",
   "metadata": {},
   "outputs": [
    {
     "data": {
      "text/plain": [
       "'Magui tiene 5 años y es de color negrita'"
      ]
     },
     "execution_count": 235,
     "metadata": {},
     "output_type": "execute_result"
    }
   ],
   "source": [
    "descr = f'{nombre} tiene {edad} años y es de color {color}'#cadenas literales\n",
    "descr"
   ]
  },
  {
   "cell_type": "code",
   "execution_count": null,
   "id": "47ab2bd2-0c31-45ec-a478-23420885af90",
   "metadata": {},
   "outputs": [],
   "source": []
  }
 ],
 "metadata": {
  "kernelspec": {
   "display_name": "Python 3 (ipykernel)",
   "language": "python",
   "name": "python3"
  },
  "language_info": {
   "codemirror_mode": {
    "name": "ipython",
    "version": 3
   },
   "file_extension": ".py",
   "mimetype": "text/x-python",
   "name": "python",
   "nbconvert_exporter": "python",
   "pygments_lexer": "ipython3",
   "version": "3.12.4"
  }
 },
 "nbformat": 4,
 "nbformat_minor": 5
}
