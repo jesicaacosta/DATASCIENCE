{
 "cells": [
  {
   "cell_type": "code",
   "execution_count": 5,
   "id": "a52632b5-7450-40ee-9471-5ad32b93b384",
   "metadata": {},
   "outputs": [
    {
     "data": {
      "text/plain": [
       "['Vicky', 'Toto']"
      ]
     },
     "execution_count": 5,
     "metadata": {},
     "output_type": "execute_result"
    }
   ],
   "source": [
    "a = 100\n",
    "b = 200\n",
    "c= 'Maggie'\n",
    "d = 'Sila'\n",
    "e = 'Kalel'\n",
    "f = [ 'Vicky' , 'Toto' ]\n",
    "f"
   ]
  },
  {
   "cell_type": "code",
   "execution_count": 7,
   "id": "2fbc51a6-1ece-42bc-806e-93099c4956f8",
   "metadata": {},
   "outputs": [
    {
     "name": "stdout",
     "output_type": "stream",
     "text": [
      "a es menor\n"
     ]
    }
   ],
   "source": [
    "if a < b : \n",
    "    print('a es menor')\n"
   ]
  },
  {
   "cell_type": "code",
   "execution_count": 11,
   "id": "e7d22ca7-a389-44c8-9113-008664cbfb8d",
   "metadata": {},
   "outputs": [
    {
     "name": "stdout",
     "output_type": "stream",
     "text": [
      "Es perra\n"
     ]
    }
   ],
   "source": [
    "if f[0] == 'Vicky':\n",
    "    print('Es perra')\n",
    "    "
   ]
  },
  {
   "cell_type": "code",
   "execution_count": 47,
   "id": "a8fff775-4bf9-4fca-970c-517c03ddb533",
   "metadata": {},
   "outputs": [
    {
     "name": "stdin",
     "output_type": "stream",
     "text": [
      "Nombre:  A\n"
     ]
    },
    {
     "name": "stdout",
     "output_type": "stream",
     "text": [
      "Ingreso la letra A\n"
     ]
    }
   ],
   "source": [
    "ingresoUsuario = input('Nombre: ')\n",
    "datosGuardads = [\"Juan\", \"María\", \"Pedro\", \"Ana\", \"Luis\", \"Sofía\", \"Carlos\", \"Laura\", \"Diego\", \"Valentina\"]\n",
    "if ingresoUsuario in datosGuardads :\n",
    "    print(f'{ingresoUsuario} esta en la lista')\n",
    "elif ingresoUsuario == 'A' :\n",
    "        print('Ingreso la letra A')\n",
    "else:\n",
    "    print(f'{ingresoUsuario} NO esta en la lista')\n"
   ]
  },
  {
   "cell_type": "code",
   "execution_count": 33,
   "id": "f912fbc8-c803-42a8-9a24-3afda5ee02db",
   "metadata": {},
   "outputs": [
    {
     "name": "stdout",
     "output_type": "stream",
     "text": [
      "Dentro del IF\n",
      "Fuera del IF\n"
     ]
    }
   ],
   "source": [
    "if True:\n",
    "    print('Dentro del IF')\n",
    "print ('Fuera del IF') #se imprime siempre porque no esta identado dentro"
   ]
  },
  {
   "cell_type": "code",
   "execution_count": 35,
   "id": "89a38227-626c-4cac-8eec-ebcb3acc50aa",
   "metadata": {},
   "outputs": [
    {
     "name": "stdout",
     "output_type": "stream",
     "text": [
      "Fuera del IF\n"
     ]
    }
   ],
   "source": [
    "if False:\n",
    "    print('Dentro del IF')\n",
    "print ('Fuera del IF')#se imprime siempre porque no esta identado dentro"
   ]
  },
  {
   "cell_type": "code",
   "execution_count": null,
   "id": "2038ade0-aa30-455f-9a00-db7b017f0b95",
   "metadata": {},
   "outputs": [],
   "source": []
  }
 ],
 "metadata": {
  "kernelspec": {
   "display_name": "Python 3 (ipykernel)",
   "language": "python",
   "name": "python3"
  },
  "language_info": {
   "codemirror_mode": {
    "name": "ipython",
    "version": 3
   },
   "file_extension": ".py",
   "mimetype": "text/x-python",
   "name": "python",
   "nbconvert_exporter": "python",
   "pygments_lexer": "ipython3",
   "version": "3.12.4"
  }
 },
 "nbformat": 4,
 "nbformat_minor": 5
}
