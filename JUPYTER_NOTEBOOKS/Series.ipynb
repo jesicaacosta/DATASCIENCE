{
 "cells": [
  {
   "cell_type": "markdown",
   "id": "69478d02-c849-42aa-8067-677b36d19694",
   "metadata": {},
   "source": [
    "#### Series"
   ]
  },
  {
   "cell_type": "code",
   "execution_count": 24,
   "id": "c1dc52b7-9318-4948-8b1c-25471709ca82",
   "metadata": {},
   "outputs": [],
   "source": [
    "import pandas as pd"
   ]
  },
  {
   "cell_type": "code",
   "execution_count": 26,
   "id": "39c9af8a-da17-47ac-b109-4b04bc8471da",
   "metadata": {},
   "outputs": [
    {
     "data": {
      "text/plain": [
       "<module 'pandas' from 'C:\\\\Users\\\\jesic\\\\anaconda3\\\\Lib\\\\site-packages\\\\pandas\\\\__init__.py'>"
      ]
     },
     "execution_count": 26,
     "metadata": {},
     "output_type": "execute_result"
    }
   ],
   "source": [
    "pd"
   ]
  },
  {
   "cell_type": "code",
   "execution_count": 28,
   "id": "07e929c1-535b-4a2f-b0d4-f7e3eabe304b",
   "metadata": {},
   "outputs": [],
   "source": [
    "df_Prec = pd.read_csv(\"C:\\\\Users\\\\jesic\\\\GIT_HUB\\\\SQL\\\\DATASCIENCE\\\\JUPYTER_NOTEBOOKS\\\\07.1 Precipitaciones.csv\")"
   ]
  },
  {
   "cell_type": "code",
   "execution_count": 30,
   "id": "d3f036fd-bd8a-476f-8ac1-18323b6da258",
   "metadata": {},
   "outputs": [
    {
     "name": "stdout",
     "output_type": "stream",
     "text": [
      "<class 'pandas.core.frame.DataFrame'>\n",
      "RangeIndex: 52 entries, 0 to 51\n",
      "Data columns (total 14 columns):\n",
      " #   Column      Non-Null Count  Dtype  \n",
      "---  ------      --------------  -----  \n",
      " 0   region      52 non-null     object \n",
      " 1   enero       52 non-null     float64\n",
      " 2   febrero     52 non-null     float64\n",
      " 3   marzo       52 non-null     float64\n",
      " 4   abril       52 non-null     float64\n",
      " 5   mayo        52 non-null     float64\n",
      " 6   junio       52 non-null     float64\n",
      " 7   julio       52 non-null     float64\n",
      " 8   agosto      52 non-null     float64\n",
      " 9   septiembre  52 non-null     float64\n",
      " 10  octubre     52 non-null     float64\n",
      " 11  noviembre   52 non-null     float64\n",
      " 12  diciembre   52 non-null     float64\n",
      " 13  anual       52 non-null     float64\n",
      "dtypes: float64(13), object(1)\n",
      "memory usage: 5.8+ KB\n"
     ]
    }
   ],
   "source": [
    "df_Prec.info()"
   ]
  },
  {
   "cell_type": "code",
   "execution_count": 32,
   "id": "7d9fd553-fb5c-42d6-a0b7-9ee44020fdb6",
   "metadata": {},
   "outputs": [
    {
     "data": {
      "text/html": [
       "<div>\n",
       "<style scoped>\n",
       "    .dataframe tbody tr th:only-of-type {\n",
       "        vertical-align: middle;\n",
       "    }\n",
       "\n",
       "    .dataframe tbody tr th {\n",
       "        vertical-align: top;\n",
       "    }\n",
       "\n",
       "    .dataframe thead th {\n",
       "        text-align: right;\n",
       "    }\n",
       "</style>\n",
       "<table border=\"1\" class=\"dataframe\">\n",
       "  <thead>\n",
       "    <tr style=\"text-align: right;\">\n",
       "      <th></th>\n",
       "      <th>region</th>\n",
       "      <th>enero</th>\n",
       "      <th>febrero</th>\n",
       "      <th>marzo</th>\n",
       "      <th>abril</th>\n",
       "      <th>mayo</th>\n",
       "      <th>junio</th>\n",
       "      <th>julio</th>\n",
       "      <th>agosto</th>\n",
       "      <th>septiembre</th>\n",
       "      <th>octubre</th>\n",
       "      <th>noviembre</th>\n",
       "      <th>diciembre</th>\n",
       "      <th>anual</th>\n",
       "    </tr>\n",
       "  </thead>\n",
       "  <tbody>\n",
       "    <tr>\n",
       "      <th>0</th>\n",
       "      <td>A CORUNA</td>\n",
       "      <td>240.5</td>\n",
       "      <td>293.4</td>\n",
       "      <td>31.0</td>\n",
       "      <td>80.6</td>\n",
       "      <td>149.5</td>\n",
       "      <td>108.9</td>\n",
       "      <td>44.6</td>\n",
       "      <td>21.8</td>\n",
       "      <td>96.5</td>\n",
       "      <td>154.5</td>\n",
       "      <td>100.8</td>\n",
       "      <td>214.8</td>\n",
       "      <td>1536.9</td>\n",
       "    </tr>\n",
       "    <tr>\n",
       "      <th>1</th>\n",
       "      <td>ALBACETE</td>\n",
       "      <td>68.1</td>\n",
       "      <td>28.0</td>\n",
       "      <td>26.2</td>\n",
       "      <td>65.3</td>\n",
       "      <td>25.4</td>\n",
       "      <td>50.0</td>\n",
       "      <td>2.0</td>\n",
       "      <td>34.5</td>\n",
       "      <td>48.0</td>\n",
       "      <td>44.8</td>\n",
       "      <td>33.1</td>\n",
       "      <td>14.1</td>\n",
       "      <td>439.5</td>\n",
       "    </tr>\n",
       "    <tr>\n",
       "      <th>2</th>\n",
       "      <td>ALICANTE</td>\n",
       "      <td>49.2</td>\n",
       "      <td>3.7</td>\n",
       "      <td>63.2</td>\n",
       "      <td>85.8</td>\n",
       "      <td>57.2</td>\n",
       "      <td>20.0</td>\n",
       "      <td>9.2</td>\n",
       "      <td>5.0</td>\n",
       "      <td>44.0</td>\n",
       "      <td>41.1</td>\n",
       "      <td>47.4</td>\n",
       "      <td>1.8</td>\n",
       "      <td>427.6</td>\n",
       "    </tr>\n",
       "  </tbody>\n",
       "</table>\n",
       "</div>"
      ],
      "text/plain": [
       "     region  enero  febrero  marzo  abril   mayo  junio  julio  agosto  \\\n",
       "0  A CORUNA  240.5    293.4   31.0   80.6  149.5  108.9   44.6    21.8   \n",
       "1  ALBACETE   68.1     28.0   26.2   65.3   25.4   50.0    2.0    34.5   \n",
       "2  ALICANTE   49.2      3.7   63.2   85.8   57.2   20.0    9.2     5.0   \n",
       "\n",
       "   septiembre  octubre  noviembre  diciembre   anual  \n",
       "0        96.5    154.5      100.8      214.8  1536.9  \n",
       "1        48.0     44.8       33.1       14.1   439.5  \n",
       "2        44.0     41.1       47.4        1.8   427.6  "
      ]
     },
     "execution_count": 32,
     "metadata": {},
     "output_type": "execute_result"
    }
   ],
   "source": [
    "df_Prec.head(3)"
   ]
  },
  {
   "cell_type": "code",
   "execution_count": 39,
   "id": "d5fe19cf-0802-462b-9f77-d270687a8d8f",
   "metadata": {},
   "outputs": [
    {
     "data": {
      "text/plain": [
       "0    A CORUNA\n",
       "1    ALBACETE\n",
       "2    ALICANTE\n",
       "Name: region, dtype: object"
      ]
     },
     "execution_count": 39,
     "metadata": {},
     "output_type": "execute_result"
    }
   ],
   "source": [
    "serie_Prec = df_Prec[\"region\"] #asigno la columna [\"n\"]\n",
    "serie_Prec.head(3)"
   ]
  },
  {
   "cell_type": "markdown",
   "id": "18ba58fc-6cfb-4fd5-b832-e776da1a674a",
   "metadata": {},
   "source": [
    "#### Serie es un arreglo unidimensional, 1 Columna - n Filas"
   ]
  },
  {
   "cell_type": "code",
   "execution_count": 37,
   "id": "ca17823a-53b6-4a88-9aa3-73dfe0286a0a",
   "metadata": {},
   "outputs": [
    {
     "data": {
      "text/plain": [
       "0    240.5\n",
       "1     68.1\n",
       "2     49.2\n",
       "Name: enero, dtype: float64"
      ]
     },
     "execution_count": 37,
     "metadata": {},
     "output_type": "execute_result"
    }
   ],
   "source": [
    "serie_Prec = df_Prec[\"enero\"] #asigno la columna [\"n\"]\n",
    "serie_Prec.head(3)"
   ]
  },
  {
   "cell_type": "markdown",
   "id": "9c101367-3b15-4ed8-b2b3-e6431098a168",
   "metadata": {},
   "source": [
    "##### CREO NEW VAR"
   ]
  },
  {
   "cell_type": "code",
   "execution_count": 41,
   "id": "95723ab5-9cab-4316-a077-a623823d7b9f",
   "metadata": {},
   "outputs": [
    {
     "data": {
      "text/plain": [
       "0    1\n",
       "1    2\n",
       "2    3\n",
       "3    4\n",
       "dtype: int64"
      ]
     },
     "execution_count": 41,
     "metadata": {},
     "output_type": "execute_result"
    }
   ],
   "source": [
    "d = [1,2,3,4]\n",
    "r = pd.Series(d)\n",
    "r"
   ]
  },
  {
   "cell_type": "code",
   "execution_count": 43,
   "id": "da56a701-b56c-4aab-81c0-c09c2e5711f3",
   "metadata": {},
   "outputs": [
    {
     "data": {
      "text/plain": [
       "list"
      ]
     },
     "execution_count": 43,
     "metadata": {},
     "output_type": "execute_result"
    }
   ],
   "source": [
    "type(d)"
   ]
  },
  {
   "cell_type": "markdown",
   "id": "c07a55d6-65b4-4a38-bdcc-7c28965ad0a2",
   "metadata": {},
   "source": [
    "#### Cambiando indices de Series "
   ]
  },
  {
   "cell_type": "code",
   "execution_count": 46,
   "id": "f259ed07-b31e-4ded-a0ea-58f6110eaff6",
   "metadata": {},
   "outputs": [
    {
     "data": {
      "text/plain": [
       "list"
      ]
     },
     "execution_count": 46,
     "metadata": {},
     "output_type": "execute_result"
    }
   ],
   "source": [
    "nombres = ['Ana', 'Bruno', 'Carla', 'David', 'Elena']\n",
    "ind = [ \"a\", \"b\",\"c\",\"d\",\"e\"] #letras que seran mis indices \n",
    "type(ind)"
   ]
  },
  {
   "cell_type": "code",
   "execution_count": 48,
   "id": "a07db209-6efe-47c3-9ef0-9654c3674a4b",
   "metadata": {},
   "outputs": [
    {
     "data": {
      "text/plain": [
       "a      Ana\n",
       "b    Bruno\n",
       "c    Carla\n",
       "d    David\n",
       "e    Elena\n",
       "dtype: object"
      ]
     },
     "execution_count": 48,
     "metadata": {},
     "output_type": "execute_result"
    }
   ],
   "source": [
    "ind2 = pd.Series(nombres,ind) #creo nueva variable que tendra (elementos, indices)\n",
    "ind2"
   ]
  },
  {
   "cell_type": "code",
   "execution_count": 50,
   "id": "2efe473d-4abd-45cc-aeca-22f925f6e647",
   "metadata": {},
   "outputs": [
    {
     "data": {
      "text/plain": [
       "'David'"
      ]
     },
     "execution_count": 50,
     "metadata": {},
     "output_type": "execute_result"
    }
   ],
   "source": [
    "ind2[\"d\"]"
   ]
  },
  {
   "cell_type": "code",
   "execution_count": 52,
   "id": "8370cf3f-0930-40ac-805f-bb5e7863f7b2",
   "metadata": {},
   "outputs": [
    {
     "data": {
      "text/plain": [
       "pandas.core.series.Series"
      ]
     },
     "execution_count": 52,
     "metadata": {},
     "output_type": "execute_result"
    }
   ],
   "source": [
    "type(ind2)"
   ]
  },
  {
   "cell_type": "code",
   "execution_count": 54,
   "id": "af13d73c-d290-4410-8a2b-fccff06a1cf5",
   "metadata": {},
   "outputs": [
    {
     "data": {
      "text/plain": [
       "str"
      ]
     },
     "execution_count": 54,
     "metadata": {},
     "output_type": "execute_result"
    }
   ],
   "source": [
    "type(ind2[\"d\"])"
   ]
  },
  {
   "cell_type": "markdown",
   "id": "18e9118b-c435-4997-bca1-63f200d13d68",
   "metadata": {},
   "source": [
    "#### Diccionario a Series"
   ]
  },
  {
   "cell_type": "code",
   "execution_count": 68,
   "id": "67d40315-36ae-4ead-ac74-7ffa1e716d11",
   "metadata": {},
   "outputs": [],
   "source": [
    "capitales = {\n",
    "    'Argentina': 'Buenos Aires',\n",
    "    'Brasil': 'Brasilia',\n",
    "    'Canadá': 'Ottawa',\n",
    "    'Dinamarca': 'Copenhague',\n",
    "    'Egipto': 'El Cairo'\n",
    "}"
   ]
  },
  {
   "cell_type": "code",
   "execution_count": 66,
   "id": "247c1081-1401-4c38-b8c2-f02b7def5a50",
   "metadata": {},
   "outputs": [
    {
     "data": {
      "text/plain": [
       "{'Argentina': 'Buenos Aires',\n",
       " 'Brasil': 'Brasilia',\n",
       " 'Canadá': 'Ottawa',\n",
       " 'Dinamarca': 'Copenhague',\n",
       " 'Egipto': 'El Cairo'}"
      ]
     },
     "execution_count": 66,
     "metadata": {},
     "output_type": "execute_result"
    }
   ],
   "source": [
    "capitales #LLAMO COMO DICCIONARIO"
   ]
  },
  {
   "cell_type": "code",
   "execution_count": 72,
   "id": "70a5741d-abf2-4466-8fe5-391058073863",
   "metadata": {},
   "outputs": [],
   "source": [
    "serieCapitales = pd.Series(capitales) #ASIGNO DICC A VAR"
   ]
  },
  {
   "cell_type": "code",
   "execution_count": 76,
   "id": "10ef89c0-3b51-4c95-a21b-bcc8f1a7835e",
   "metadata": {},
   "outputs": [
    {
     "data": {
      "text/plain": [
       "Argentina    Buenos Aires\n",
       "Brasil           Brasilia\n",
       "Canadá             Ottawa\n",
       "Dinamarca      Copenhague\n",
       "Egipto           El Cairo\n",
       "dtype: object"
      ]
     },
     "execution_count": 76,
     "metadata": {},
     "output_type": "execute_result"
    }
   ],
   "source": [
    "serieCapitales #LLAMO COMO SERIE"
   ]
  },
  {
   "cell_type": "code",
   "execution_count": null,
   "id": "0bef1b2d-bd13-4094-983d-a8a5cc4a5fee",
   "metadata": {},
   "outputs": [],
   "source": []
  }
 ],
 "metadata": {
  "kernelspec": {
   "display_name": "Python 3 (ipykernel)",
   "language": "python",
   "name": "python3"
  },
  "language_info": {
   "codemirror_mode": {
    "name": "ipython",
    "version": 3
   },
   "file_extension": ".py",
   "mimetype": "text/x-python",
   "name": "python",
   "nbconvert_exporter": "python",
   "pygments_lexer": "ipython3",
   "version": "3.12.4"
  }
 },
 "nbformat": 4,
 "nbformat_minor": 5
}
