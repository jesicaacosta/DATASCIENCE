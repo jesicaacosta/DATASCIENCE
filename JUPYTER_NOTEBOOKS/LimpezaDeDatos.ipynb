{
 "cells": [
  {
   "cell_type": "code",
   "execution_count": 13,
   "id": "3a7c9a25-fed6-499f-8e24-faa81894e482",
   "metadata": {},
   "outputs": [],
   "source": [
    "import pandas as pd"
   ]
  },
  {
   "cell_type": "markdown",
   "id": "28d08084-6a3e-4c74-9621-3206375b9c5e",
   "metadata": {},
   "source": [
    "#### Limpieza de datos"
   ]
  },
  {
   "cell_type": "code",
   "execution_count": 17,
   "id": "eca86b41-a25f-4b1d-b0cc-0836c8f12a26",
   "metadata": {},
   "outputs": [],
   "source": [
    "ventas = {\n",
    "    'ID_producto': [101, 102, 103, 104, 102],            # ID repetido (102)\n",
    "    'cantidad_vendida': [10, None, 5, 8, 10],           # Valor faltante (None) y cantidad repetida (10)\n",
    "    'precio': [100.0, 150.0, None, 200.0, 150.0]        # Valor faltante (None) y precio repetido (150.0)\n",
    "}\n"
   ]
  },
  {
   "cell_type": "code",
   "execution_count": 31,
   "id": "3bb81c0a-88f1-47de-9abe-82b3cd84039c",
   "metadata": {},
   "outputs": [
    {
     "data": {
      "text/html": [
       "<div>\n",
       "<style scoped>\n",
       "    .dataframe tbody tr th:only-of-type {\n",
       "        vertical-align: middle;\n",
       "    }\n",
       "\n",
       "    .dataframe tbody tr th {\n",
       "        vertical-align: top;\n",
       "    }\n",
       "\n",
       "    .dataframe thead th {\n",
       "        text-align: right;\n",
       "    }\n",
       "</style>\n",
       "<table border=\"1\" class=\"dataframe\">\n",
       "  <thead>\n",
       "    <tr style=\"text-align: right;\">\n",
       "      <th></th>\n",
       "      <th>ID_producto</th>\n",
       "      <th>cantidad_vendida</th>\n",
       "      <th>precio</th>\n",
       "    </tr>\n",
       "  </thead>\n",
       "  <tbody>\n",
       "    <tr>\n",
       "      <th>0</th>\n",
       "      <td>101</td>\n",
       "      <td>10.0</td>\n",
       "      <td>100.0</td>\n",
       "    </tr>\n",
       "    <tr>\n",
       "      <th>1</th>\n",
       "      <td>102</td>\n",
       "      <td>NaN</td>\n",
       "      <td>150.0</td>\n",
       "    </tr>\n",
       "    <tr>\n",
       "      <th>2</th>\n",
       "      <td>103</td>\n",
       "      <td>5.0</td>\n",
       "      <td>NaN</td>\n",
       "    </tr>\n",
       "    <tr>\n",
       "      <th>3</th>\n",
       "      <td>104</td>\n",
       "      <td>8.0</td>\n",
       "      <td>200.0</td>\n",
       "    </tr>\n",
       "    <tr>\n",
       "      <th>4</th>\n",
       "      <td>102</td>\n",
       "      <td>10.0</td>\n",
       "      <td>150.0</td>\n",
       "    </tr>\n",
       "  </tbody>\n",
       "</table>\n",
       "</div>"
      ],
      "text/plain": [
       "   ID_producto  cantidad_vendida  precio\n",
       "0          101              10.0   100.0\n",
       "1          102               NaN   150.0\n",
       "2          103               5.0     NaN\n",
       "3          104               8.0   200.0\n",
       "4          102              10.0   150.0"
      ]
     },
     "execution_count": 31,
     "metadata": {},
     "output_type": "execute_result"
    }
   ],
   "source": [
    "df_vtas = pd.DataFrame(ventas)\n",
    "df_vtas"
   ]
  },
  {
   "cell_type": "code",
   "execution_count": 21,
   "id": "4c0f139f-9234-4d7e-a4a9-748e566d170c",
   "metadata": {},
   "outputs": [
    {
     "name": "stdout",
     "output_type": "stream",
     "text": [
      "<class 'pandas.core.frame.DataFrame'>\n",
      "RangeIndex: 5 entries, 0 to 4\n",
      "Data columns (total 3 columns):\n",
      " #   Column            Non-Null Count  Dtype  \n",
      "---  ------            --------------  -----  \n",
      " 0   ID_producto       5 non-null      int64  \n",
      " 1   cantidad_vendida  4 non-null      float64\n",
      " 2   precio            4 non-null      float64\n",
      "dtypes: float64(2), int64(1)\n",
      "memory usage: 252.0 bytes\n"
     ]
    }
   ],
   "source": [
    "df_vtas.info()"
   ]
  },
  {
   "cell_type": "code",
   "execution_count": 23,
   "id": "9e5720e8-1c35-49b8-9eaa-04c9e22a3e24",
   "metadata": {},
   "outputs": [
    {
     "data": {
      "text/html": [
       "<div>\n",
       "<style scoped>\n",
       "    .dataframe tbody tr th:only-of-type {\n",
       "        vertical-align: middle;\n",
       "    }\n",
       "\n",
       "    .dataframe tbody tr th {\n",
       "        vertical-align: top;\n",
       "    }\n",
       "\n",
       "    .dataframe thead th {\n",
       "        text-align: right;\n",
       "    }\n",
       "</style>\n",
       "<table border=\"1\" class=\"dataframe\">\n",
       "  <thead>\n",
       "    <tr style=\"text-align: right;\">\n",
       "      <th></th>\n",
       "      <th>ID_producto</th>\n",
       "      <th>cantidad_vendida</th>\n",
       "      <th>precio</th>\n",
       "    </tr>\n",
       "  </thead>\n",
       "  <tbody>\n",
       "    <tr>\n",
       "      <th>0</th>\n",
       "      <td>False</td>\n",
       "      <td>False</td>\n",
       "      <td>False</td>\n",
       "    </tr>\n",
       "    <tr>\n",
       "      <th>1</th>\n",
       "      <td>False</td>\n",
       "      <td>True</td>\n",
       "      <td>False</td>\n",
       "    </tr>\n",
       "    <tr>\n",
       "      <th>2</th>\n",
       "      <td>False</td>\n",
       "      <td>False</td>\n",
       "      <td>True</td>\n",
       "    </tr>\n",
       "    <tr>\n",
       "      <th>3</th>\n",
       "      <td>False</td>\n",
       "      <td>False</td>\n",
       "      <td>False</td>\n",
       "    </tr>\n",
       "    <tr>\n",
       "      <th>4</th>\n",
       "      <td>False</td>\n",
       "      <td>False</td>\n",
       "      <td>False</td>\n",
       "    </tr>\n",
       "  </tbody>\n",
       "</table>\n",
       "</div>"
      ],
      "text/plain": [
       "   ID_producto  cantidad_vendida  precio\n",
       "0        False             False   False\n",
       "1        False              True   False\n",
       "2        False             False    True\n",
       "3        False             False   False\n",
       "4        False             False   False"
      ]
     },
     "execution_count": 23,
     "metadata": {},
     "output_type": "execute_result"
    }
   ],
   "source": [
    "df_vtas.isnull() #devuelve true si es nulo cada elemento"
   ]
  },
  {
   "cell_type": "code",
   "execution_count": 25,
   "id": "3653185f-a07f-4513-ac4a-ac8301194da1",
   "metadata": {},
   "outputs": [
    {
     "data": {
      "text/plain": [
       "ID_producto         0\n",
       "cantidad_vendida    1\n",
       "precio              1\n",
       "dtype: int64"
      ]
     },
     "execution_count": 25,
     "metadata": {},
     "output_type": "execute_result"
    }
   ],
   "source": [
    "df_vtas.isnull().sum() #nos suma la cantidad de nulos de cada columna"
   ]
  },
  {
   "cell_type": "markdown",
   "id": "e1b17b86-bfdc-4295-863b-64dc717e3deb",
   "metadata": {},
   "source": [
    "#### DEPENDIENDO EL DATAFRAME U OBJETIVO DE LA MISMA, PUEDO TOMAR LA DESICION DE ELIMINAR VALORES NULOS\n",
    "#### O RELLENARLOS CON ALGUN VALOR "
   ]
  },
  {
   "cell_type": "code",
   "execution_count": 27,
   "id": "39df41cf-8dd7-451a-92a3-48c366b1bee1",
   "metadata": {},
   "outputs": [
    {
     "data": {
      "text/html": [
       "<div>\n",
       "<style scoped>\n",
       "    .dataframe tbody tr th:only-of-type {\n",
       "        vertical-align: middle;\n",
       "    }\n",
       "\n",
       "    .dataframe tbody tr th {\n",
       "        vertical-align: top;\n",
       "    }\n",
       "\n",
       "    .dataframe thead th {\n",
       "        text-align: right;\n",
       "    }\n",
       "</style>\n",
       "<table border=\"1\" class=\"dataframe\">\n",
       "  <thead>\n",
       "    <tr style=\"text-align: right;\">\n",
       "      <th></th>\n",
       "      <th>ID_producto</th>\n",
       "      <th>cantidad_vendida</th>\n",
       "      <th>precio</th>\n",
       "    </tr>\n",
       "  </thead>\n",
       "  <tbody>\n",
       "    <tr>\n",
       "      <th>0</th>\n",
       "      <td>101</td>\n",
       "      <td>10.0</td>\n",
       "      <td>100.0</td>\n",
       "    </tr>\n",
       "    <tr>\n",
       "      <th>3</th>\n",
       "      <td>104</td>\n",
       "      <td>8.0</td>\n",
       "      <td>200.0</td>\n",
       "    </tr>\n",
       "    <tr>\n",
       "      <th>4</th>\n",
       "      <td>102</td>\n",
       "      <td>10.0</td>\n",
       "      <td>150.0</td>\n",
       "    </tr>\n",
       "  </tbody>\n",
       "</table>\n",
       "</div>"
      ],
      "text/plain": [
       "   ID_producto  cantidad_vendida  precio\n",
       "0          101              10.0   100.0\n",
       "3          104               8.0   200.0\n",
       "4          102              10.0   150.0"
      ]
     },
     "execution_count": 27,
     "metadata": {},
     "output_type": "execute_result"
    }
   ],
   "source": [
    "df_vts_eliminados = df_vtas.dropna() #Devolver un nuevo marco de datos sin celdas vacías:\n",
    "df_vts_eliminados"
   ]
  },
  {
   "cell_type": "code",
   "execution_count": 29,
   "id": "6213f154-d2fb-4880-b8a0-d3f7c508a442",
   "metadata": {},
   "outputs": [
    {
     "data": {
      "text/html": [
       "<div>\n",
       "<style scoped>\n",
       "    .dataframe tbody tr th:only-of-type {\n",
       "        vertical-align: middle;\n",
       "    }\n",
       "\n",
       "    .dataframe tbody tr th {\n",
       "        vertical-align: top;\n",
       "    }\n",
       "\n",
       "    .dataframe thead th {\n",
       "        text-align: right;\n",
       "    }\n",
       "</style>\n",
       "<table border=\"1\" class=\"dataframe\">\n",
       "  <thead>\n",
       "    <tr style=\"text-align: right;\">\n",
       "      <th></th>\n",
       "      <th>ID_producto</th>\n",
       "      <th>cantidad_vendida</th>\n",
       "      <th>precio</th>\n",
       "    </tr>\n",
       "  </thead>\n",
       "  <tbody>\n",
       "    <tr>\n",
       "      <th>0</th>\n",
       "      <td>101</td>\n",
       "      <td>10.0</td>\n",
       "      <td>100.0</td>\n",
       "    </tr>\n",
       "    <tr>\n",
       "      <th>1</th>\n",
       "      <td>102</td>\n",
       "      <td>0.0</td>\n",
       "      <td>150.0</td>\n",
       "    </tr>\n",
       "    <tr>\n",
       "      <th>2</th>\n",
       "      <td>103</td>\n",
       "      <td>5.0</td>\n",
       "      <td>150.0</td>\n",
       "    </tr>\n",
       "    <tr>\n",
       "      <th>3</th>\n",
       "      <td>104</td>\n",
       "      <td>8.0</td>\n",
       "      <td>200.0</td>\n",
       "    </tr>\n",
       "    <tr>\n",
       "      <th>4</th>\n",
       "      <td>102</td>\n",
       "      <td>10.0</td>\n",
       "      <td>150.0</td>\n",
       "    </tr>\n",
       "  </tbody>\n",
       "</table>\n",
       "</div>"
      ],
      "text/plain": [
       "   ID_producto  cantidad_vendida  precio\n",
       "0          101              10.0   100.0\n",
       "1          102               0.0   150.0\n",
       "2          103               5.0   150.0\n",
       "3          104               8.0   200.0\n",
       "4          102              10.0   150.0"
      ]
     },
     "execution_count": 29,
     "metadata": {},
     "output_type": "execute_result"
    }
   ],
   "source": [
    "valores_nuevos = {\n",
    "    \"cantidad_vendida\": 0,\n",
    "    \"precio\" : df_vtas[\"precio\"].mean()\n",
    "    #para no alterar valores poniendo 0, como es precio, hago un promedio de los precios de las columnas\n",
    "}\n",
    "df_vtas_limpio = df_vtas.fillna(valores_nuevos)\n",
    "df_vtas_limpio"
   ]
  },
  {
   "cell_type": "code",
   "execution_count": 41,
   "id": "a360aa8f-6ba7-45fa-9679-42bcbb1d695c",
   "metadata": {},
   "outputs": [
    {
     "data": {
      "text/html": [
       "<div>\n",
       "<style scoped>\n",
       "    .dataframe tbody tr th:only-of-type {\n",
       "        vertical-align: middle;\n",
       "    }\n",
       "\n",
       "    .dataframe tbody tr th {\n",
       "        vertical-align: top;\n",
       "    }\n",
       "\n",
       "    .dataframe thead th {\n",
       "        text-align: right;\n",
       "    }\n",
       "</style>\n",
       "<table border=\"1\" class=\"dataframe\">\n",
       "  <thead>\n",
       "    <tr style=\"text-align: right;\">\n",
       "      <th></th>\n",
       "      <th>producto</th>\n",
       "      <th>cantidad_vendida</th>\n",
       "      <th>precio</th>\n",
       "    </tr>\n",
       "  </thead>\n",
       "  <tbody>\n",
       "    <tr>\n",
       "      <th>0</th>\n",
       "      <td>A</td>\n",
       "      <td>10.0</td>\n",
       "      <td>100.50</td>\n",
       "    </tr>\n",
       "    <tr>\n",
       "      <th>1</th>\n",
       "      <td>B</td>\n",
       "      <td>NaN</td>\n",
       "      <td>200.75</td>\n",
       "    </tr>\n",
       "    <tr>\n",
       "      <th>2</th>\n",
       "      <td>C</td>\n",
       "      <td>20.0</td>\n",
       "      <td>NaN</td>\n",
       "    </tr>\n",
       "    <tr>\n",
       "      <th>3</th>\n",
       "      <td>D</td>\n",
       "      <td>NaN</td>\n",
       "      <td>150.00</td>\n",
       "    </tr>\n",
       "    <tr>\n",
       "      <th>4</th>\n",
       "      <td>E</td>\n",
       "      <td>15.0</td>\n",
       "      <td>NaN</td>\n",
       "    </tr>\n",
       "  </tbody>\n",
       "</table>\n",
       "</div>"
      ],
      "text/plain": [
       "  producto  cantidad_vendida  precio\n",
       "0        A              10.0  100.50\n",
       "1        B               NaN  200.75\n",
       "2        C              20.0     NaN\n",
       "3        D               NaN  150.00\n",
       "4        E              15.0     NaN"
      ]
     },
     "execution_count": 41,
     "metadata": {},
     "output_type": "execute_result"
    }
   ],
   "source": [
    "# Creación de un DataFrame de ejemplo con valores nulos\n",
    "data = {\n",
    "    \"producto\": [\"A\", \"B\", \"C\", \"D\", \"E\"],\n",
    "    \"cantidad_vendida\": [10, None, 20, None, 15],\n",
    "    \"precio\": [100.5, 200.75, None, 150.0, None]\n",
    "}\n",
    "\n",
    "# Creación del DataFrame\n",
    "df_ventas = pd.DataFrame(data)\n",
    "df_ventas"
   ]
  },
  {
   "cell_type": "code",
   "execution_count": 43,
   "id": "88907304-6222-4620-84ae-07f4c40665a1",
   "metadata": {},
   "outputs": [
    {
     "data": {
      "text/plain": [
       "producto            0\n",
       "cantidad_vendida    2\n",
       "precio              2\n",
       "dtype: int64"
      ]
     },
     "execution_count": 43,
     "metadata": {},
     "output_type": "execute_result"
    }
   ],
   "source": [
    "df_vtas.isnull().sum() #compruebo cuanto/si hay nulos para reemplazar"
   ]
  },
  {
   "cell_type": "code",
   "execution_count": 35,
   "id": "dae8431c-ef51-412a-b3c2-c86e93bb03e1",
   "metadata": {},
   "outputs": [
    {
     "data": {
      "text/html": [
       "<div>\n",
       "<style scoped>\n",
       "    .dataframe tbody tr th:only-of-type {\n",
       "        vertical-align: middle;\n",
       "    }\n",
       "\n",
       "    .dataframe tbody tr th {\n",
       "        vertical-align: top;\n",
       "    }\n",
       "\n",
       "    .dataframe thead th {\n",
       "        text-align: right;\n",
       "    }\n",
       "</style>\n",
       "<table border=\"1\" class=\"dataframe\">\n",
       "  <thead>\n",
       "    <tr style=\"text-align: right;\">\n",
       "      <th></th>\n",
       "      <th>producto</th>\n",
       "      <th>cantidad_vendida</th>\n",
       "      <th>precio</th>\n",
       "    </tr>\n",
       "  </thead>\n",
       "  <tbody>\n",
       "    <tr>\n",
       "      <th>0</th>\n",
       "      <td>A</td>\n",
       "      <td>10.0</td>\n",
       "      <td>100.500000</td>\n",
       "    </tr>\n",
       "    <tr>\n",
       "      <th>1</th>\n",
       "      <td>B</td>\n",
       "      <td>0.0</td>\n",
       "      <td>200.750000</td>\n",
       "    </tr>\n",
       "    <tr>\n",
       "      <th>2</th>\n",
       "      <td>C</td>\n",
       "      <td>20.0</td>\n",
       "      <td>150.416667</td>\n",
       "    </tr>\n",
       "    <tr>\n",
       "      <th>3</th>\n",
       "      <td>D</td>\n",
       "      <td>0.0</td>\n",
       "      <td>150.000000</td>\n",
       "    </tr>\n",
       "    <tr>\n",
       "      <th>4</th>\n",
       "      <td>E</td>\n",
       "      <td>15.0</td>\n",
       "      <td>150.416667</td>\n",
       "    </tr>\n",
       "  </tbody>\n",
       "</table>\n",
       "</div>"
      ],
      "text/plain": [
       "  producto  cantidad_vendida      precio\n",
       "0        A              10.0  100.500000\n",
       "1        B               0.0  200.750000\n",
       "2        C              20.0  150.416667\n",
       "3        D               0.0  150.000000\n",
       "4        E              15.0  150.416667"
      ]
     },
     "execution_count": 35,
     "metadata": {},
     "output_type": "execute_result"
    }
   ],
   "source": [
    "# Creo un nuevo Diccionario con los valores nuevos para reemplazar los NaN\n",
    "valores_nuevos = {\n",
    "    \"cantidad_vendida\": 0,  # Rellenamos con 0 las ventas faltantes\n",
    "    \"precio\": df_vtas[\"precio\"].mean()  # Rellenamos con el promedio de precios ya cargados\n",
    "}\n",
    "\n",
    "# Rellenar los NaN usando el diccionario\n",
    "df_vtas_limpio = df_vtas.fillna(valores_nuevos) #fillna()identifica autom. las posiciones donde hay valores nulos (NaN) \n",
    "#dentro del DataFrame y reemplaza con los valores que le indiques, en este caso un dicc con dos clave valor\n",
    "\n",
    "df_vtas_limpio\n"
   ]
  },
  {
   "cell_type": "markdown",
   "id": "1c4d1aa4-7e17-4b61-b759-af22ef7a3101",
   "metadata": {},
   "source": [
    "####  astype() convierte los datos de una columna a un tipo específico."
   ]
  },
  {
   "cell_type": "code",
   "execution_count": 45,
   "id": "8b87d92f-4926-4336-a209-3d17ae19c924",
   "metadata": {},
   "outputs": [
    {
     "data": {
      "text/html": [
       "<div>\n",
       "<style scoped>\n",
       "    .dataframe tbody tr th:only-of-type {\n",
       "        vertical-align: middle;\n",
       "    }\n",
       "\n",
       "    .dataframe tbody tr th {\n",
       "        vertical-align: top;\n",
       "    }\n",
       "\n",
       "    .dataframe thead th {\n",
       "        text-align: right;\n",
       "    }\n",
       "</style>\n",
       "<table border=\"1\" class=\"dataframe\">\n",
       "  <thead>\n",
       "    <tr style=\"text-align: right;\">\n",
       "      <th></th>\n",
       "      <th>producto</th>\n",
       "      <th>cantidad_vendida</th>\n",
       "      <th>precio</th>\n",
       "    </tr>\n",
       "  </thead>\n",
       "  <tbody>\n",
       "    <tr>\n",
       "      <th>0</th>\n",
       "      <td>A</td>\n",
       "      <td>10</td>\n",
       "      <td>100.500000</td>\n",
       "    </tr>\n",
       "    <tr>\n",
       "      <th>1</th>\n",
       "      <td>B</td>\n",
       "      <td>0</td>\n",
       "      <td>200.750000</td>\n",
       "    </tr>\n",
       "    <tr>\n",
       "      <th>2</th>\n",
       "      <td>C</td>\n",
       "      <td>20</td>\n",
       "      <td>150.416667</td>\n",
       "    </tr>\n",
       "    <tr>\n",
       "      <th>3</th>\n",
       "      <td>D</td>\n",
       "      <td>0</td>\n",
       "      <td>150.000000</td>\n",
       "    </tr>\n",
       "    <tr>\n",
       "      <th>4</th>\n",
       "      <td>E</td>\n",
       "      <td>15</td>\n",
       "      <td>150.416667</td>\n",
       "    </tr>\n",
       "  </tbody>\n",
       "</table>\n",
       "</div>"
      ],
      "text/plain": [
       "  producto  cantidad_vendida      precio\n",
       "0        A                10  100.500000\n",
       "1        B                 0  200.750000\n",
       "2        C                20  150.416667\n",
       "3        D                 0  150.000000\n",
       "4        E                15  150.416667"
      ]
     },
     "execution_count": 45,
     "metadata": {},
     "output_type": "execute_result"
    }
   ],
   "source": [
    "df_vtas_limpio[\"cantidad_vendida\"] = df_vtas_limpio[\"cantidad_vendida\"].astype(int)\n",
    "df_vtas_limpio"
   ]
  },
  {
   "cell_type": "markdown",
   "id": "e2ca3685-1d3c-485c-ae9d-982d6f3bc629",
   "metadata": {},
   "source": [
    "### drop_duplicates"
   ]
  },
  {
   "cell_type": "code",
   "execution_count": 49,
   "id": "95501358-4c62-4553-9181-bd06407b9b5b",
   "metadata": {},
   "outputs": [
    {
     "data": {
      "text/html": [
       "<div>\n",
       "<style scoped>\n",
       "    .dataframe tbody tr th:only-of-type {\n",
       "        vertical-align: middle;\n",
       "    }\n",
       "\n",
       "    .dataframe tbody tr th {\n",
       "        vertical-align: top;\n",
       "    }\n",
       "\n",
       "    .dataframe thead th {\n",
       "        text-align: right;\n",
       "    }\n",
       "</style>\n",
       "<table border=\"1\" class=\"dataframe\">\n",
       "  <thead>\n",
       "    <tr style=\"text-align: right;\">\n",
       "      <th></th>\n",
       "      <th>ID_producto</th>\n",
       "      <th>cantidad_vendida</th>\n",
       "      <th>precio</th>\n",
       "    </tr>\n",
       "  </thead>\n",
       "  <tbody>\n",
       "    <tr>\n",
       "      <th>0</th>\n",
       "      <td>101</td>\n",
       "      <td>10</td>\n",
       "      <td>100.0</td>\n",
       "    </tr>\n",
       "    <tr>\n",
       "      <th>1</th>\n",
       "      <td>102</td>\n",
       "      <td>0</td>\n",
       "      <td>150.0</td>\n",
       "    </tr>\n",
       "    <tr>\n",
       "      <th>2</th>\n",
       "      <td>103</td>\n",
       "      <td>5</td>\n",
       "      <td>150.0</td>\n",
       "    </tr>\n",
       "    <tr>\n",
       "      <th>3</th>\n",
       "      <td>104</td>\n",
       "      <td>8</td>\n",
       "      <td>200.0</td>\n",
       "    </tr>\n",
       "    <tr>\n",
       "      <th>4</th>\n",
       "      <td>102</td>\n",
       "      <td>10</td>\n",
       "      <td>150.0</td>\n",
       "    </tr>\n",
       "  </tbody>\n",
       "</table>\n",
       "</div>"
      ],
      "text/plain": [
       "   ID_producto  cantidad_vendida  precio\n",
       "0          101                10   100.0\n",
       "1          102                 0   150.0\n",
       "2          103                 5   150.0\n",
       "3          104                 8   200.0\n",
       "4          102                10   150.0"
      ]
     },
     "execution_count": 49,
     "metadata": {},
     "output_type": "execute_result"
    }
   ],
   "source": [
    "df_unicos = df_vtas_limpio.drop_duplicates() #registros completos complemtamente iguales\n",
    "df_unicos"
   ]
  },
  {
   "cell_type": "code",
   "execution_count": 53,
   "id": "52726d23-624d-4e3d-987b-9eaf59a2323a",
   "metadata": {},
   "outputs": [
    {
     "data": {
      "text/html": [
       "<div>\n",
       "<style scoped>\n",
       "    .dataframe tbody tr th:only-of-type {\n",
       "        vertical-align: middle;\n",
       "    }\n",
       "\n",
       "    .dataframe tbody tr th {\n",
       "        vertical-align: top;\n",
       "    }\n",
       "\n",
       "    .dataframe thead th {\n",
       "        text-align: right;\n",
       "    }\n",
       "</style>\n",
       "<table border=\"1\" class=\"dataframe\">\n",
       "  <thead>\n",
       "    <tr style=\"text-align: right;\">\n",
       "      <th></th>\n",
       "      <th>ID_producto</th>\n",
       "      <th>cantidad_vendida</th>\n",
       "      <th>precio</th>\n",
       "    </tr>\n",
       "  </thead>\n",
       "  <tbody>\n",
       "    <tr>\n",
       "      <th>0</th>\n",
       "      <td>101</td>\n",
       "      <td>10</td>\n",
       "      <td>100.0</td>\n",
       "    </tr>\n",
       "    <tr>\n",
       "      <th>1</th>\n",
       "      <td>102</td>\n",
       "      <td>0</td>\n",
       "      <td>150.0</td>\n",
       "    </tr>\n",
       "    <tr>\n",
       "      <th>2</th>\n",
       "      <td>103</td>\n",
       "      <td>5</td>\n",
       "      <td>150.0</td>\n",
       "    </tr>\n",
       "    <tr>\n",
       "      <th>3</th>\n",
       "      <td>104</td>\n",
       "      <td>8</td>\n",
       "      <td>200.0</td>\n",
       "    </tr>\n",
       "  </tbody>\n",
       "</table>\n",
       "</div>"
      ],
      "text/plain": [
       "   ID_producto  cantidad_vendida  precio\n",
       "0          101                10   100.0\n",
       "1          102                 0   150.0\n",
       "2          103                 5   150.0\n",
       "3          104                 8   200.0"
      ]
     },
     "execution_count": 53,
     "metadata": {},
     "output_type": "execute_result"
    }
   ],
   "source": [
    "df_unicos = df_vtas_limpio.drop_duplicates(subset=\"ID_producto\") #elimina columna/seccion q tenga alguna registro = con una posterior \n",
    "df_unicos"
   ]
  },
  {
   "cell_type": "code",
   "execution_count": 55,
   "id": "9f4ccd55-e4ea-4b4b-8f0f-b70c31ed3153",
   "metadata": {},
   "outputs": [
    {
     "name": "stdout",
     "output_type": "stream",
     "text": [
      "DataFrame original:\n",
      "     producto  precio\n",
      "0  Smartphone    1000\n",
      "1      Laptop    1500\n",
      "2  Smartphone    1000\n",
      "3      Tablet     600\n",
      "4      Laptop    1500\n",
      "\n",
      "DataFrame sin duplicados:\n",
      "     producto  precio\n",
      "0  Smartphone    1000\n",
      "1      Laptop    1500\n",
      "3      Tablet     600\n"
     ]
    }
   ],
   "source": [
    "# Crear un DataFrame con filas duplicadas\n",
    "data = {\n",
    "    \"producto\": [\"Smartphone\", \"Laptop\", \"Smartphone\", \"Tablet\", \"Laptop\"],\n",
    "    \"precio\": [1000, 1500, 1000, 600, 1500]\n",
    "}\n",
    "\n",
    "df = pd.DataFrame(data)\n",
    "\n",
    "# Mostrar el DataFrame original\n",
    "print(\"DataFrame original:\")\n",
    "print(df)\n",
    "\n",
    "# Eliminar filas duplicadas\n",
    "df_sin_duplicados = df.drop_duplicates()\n",
    "\n",
    "# Mostrar el DataFrame sin duplicados\n",
    "print(\"\\nDataFrame sin duplicados:\")\n",
    "print(df_sin_duplicados)\n"
   ]
  },
  {
   "cell_type": "markdown",
   "id": "329f3344-166b-4321-9b5f-31234f55068b",
   "metadata": {},
   "source": [
    "### subset\n",
    "#### Si eliminas duplicados basándote en una sola columna con subset, Pandas elimina toda la fila donde detecta duplicados en esa columna, aunque otras columnas de la fila contengan datos únicos."
   ]
  },
  {
   "cell_type": "code",
   "execution_count": 57,
   "id": "beb930c2-47ef-4069-a153-8455b979ab25",
   "metadata": {},
   "outputs": [
    {
     "name": "stdout",
     "output_type": "stream",
     "text": [
      "DataFrame original:\n",
      "     producto  precio\n",
      "0  Smartphone    1000\n",
      "1      Laptop    1500\n",
      "2  Smartphone    1000\n",
      "3      Tablet     600\n",
      "4      Laptop    1500\n"
     ]
    }
   ],
   "source": [
    "# Crear un DataFrame con filas duplicadas\n",
    "data1 = {\n",
    "    \"producto\": [\"Smartphone\", \"Laptop\", \"Smartphone\", \"Tablet\", \"Laptop\"],\n",
    "    \"precio\": [1000, 1500, 1000, 600, 1500]\n",
    "}\n",
    "\n",
    "df1 = pd.DataFrame(data1)\n",
    "\n",
    "# Mostrar el DataFrame original\n",
    "print(\"DataFrame original:\")\n",
    "print(df1)\n"
   ]
  },
  {
   "cell_type": "code",
   "execution_count": 61,
   "id": "617a08be-d6b0-4ae2-9aa1-bc2f861aaef6",
   "metadata": {},
   "outputs": [
    {
     "name": "stdout",
     "output_type": "stream",
     "text": [
      "\n",
      "DataFrame sin duplicados basados en 'producto':\n",
      "     producto  precio\n",
      "0  Smartphone    1000\n",
      "1      Laptop    1500\n",
      "3      Tablet     600\n"
     ]
    }
   ],
   "source": [
    "# Eliminar duplicados basados solo en la columna 'producto'\n",
    "df_sin_duplicados1 = df1.drop_duplicates(subset=[\"producto\"])\n",
    "\n",
    "print(\"\\nDataFrame sin duplicados basados en 'producto':\")\n",
    "print(df_sin_duplicados1)\n"
   ]
  },
  {
   "cell_type": "markdown",
   "id": "72d3f442-4c98-420a-a371-4ba93a826576",
   "metadata": {},
   "source": [
    "#### FILTER()"
   ]
  },
  {
   "cell_type": "code",
   "execution_count": 95,
   "id": "a061aefb-e826-4ff0-bcc8-c4f653e74a3a",
   "metadata": {},
   "outputs": [
    {
     "name": "stdout",
     "output_type": "stream",
     "text": [
      "      producto     marca  precio  cantidad_vendida  en_stock\n",
      "0   Smartphone   Samsung     800               100      True\n",
      "1       Laptop      Dell    1200                50     False\n",
      "2       Tablet     Apple     600                75     False\n",
      "3   Smartwatch    Garmin     250                30      True\n",
      "4  Auriculares      Sony     150               200     False\n",
      "5      Monitor        LG     300                40     False\n",
      "6      Teclado  Logitech      80               150     False\n",
      "7        Mouse        HP      40               180     False\n",
      "------------------------EN STOCK------------------------------\n",
      "     producto    marca  precio  cantidad_vendida  en_stock\n",
      "0  Smartphone  Samsung     800               100      True\n",
      "3  Smartwatch   Garmin     250                30      True\n"
     ]
    }
   ],
   "source": [
    "# Crear un DataFrame con productos tecnológicos\n",
    "data_tecnologia = {\n",
    "    \"producto\": [\"Smartphone\", \"Laptop\", \"Tablet\", \"Smartwatch\", \"Auriculares\", \"Monitor\", \"Teclado\", \"Mouse\"],\n",
    "    \"marca\": [\"Samsung\", \"Dell\", \"Apple\", \"Garmin\", \"Sony\", \"LG\", \"Logitech\", \"HP\"],\n",
    "    \"precio\": [800, 1200, 600, 250, 150, 300, 80, 40],\n",
    "    \"cantidad_vendida\": [100, 50, 75, 30, 200, 40, 150, 180],\n",
    "    \"en_stock\": [True, False, False, True, False, False, False, False]\n",
    "}\n",
    "\n",
    "df_tecnologia = pd.DataFrame(data_tecnologia)\n",
    "\n",
    "# Mostrar el DataFrame\n",
    "print(df_tecnologia)\n",
    "print ('------------------------EN STOCK------------------------------')\n",
    "df_en_stock = df_tecnologia[df_tecnologia['en_stock'] == True]\n",
    "print(df_en_stock)\n"
   ]
  },
  {
   "cell_type": "code",
   "execution_count": 93,
   "id": "ff95a347-c71a-45a7-b559-b3b26fd24fe2",
   "metadata": {},
   "outputs": [
    {
     "name": "stdout",
     "output_type": "stream",
     "text": [
      "     producto    marca  precio  cantidad_vendida  en_stock\n",
      "0  Smartphone  Samsung     800               100      True\n",
      "1      Laptop     Dell    1200                50     False\n",
      "2      Tablet    Apple     600                75     False\n"
     ]
    }
   ],
   "source": [
    "df_mayores = df_tecnologia[df_tecnologia['precio'] > 500 ]\n",
    "print(df_mayores)\n"
   ]
  }
 ],
 "metadata": {
  "kernelspec": {
   "display_name": "Python 3 (ipykernel)",
   "language": "python",
   "name": "python3"
  },
  "language_info": {
   "codemirror_mode": {
    "name": "ipython",
    "version": 3
   },
   "file_extension": ".py",
   "mimetype": "text/x-python",
   "name": "python",
   "nbconvert_exporter": "python",
   "pygments_lexer": "ipython3",
   "version": "3.12.4"
  }
 },
 "nbformat": 4,
 "nbformat_minor": 5
}
