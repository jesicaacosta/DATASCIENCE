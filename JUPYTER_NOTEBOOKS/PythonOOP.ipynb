{
 "cells": [
  {
   "cell_type": "code",
   "execution_count": 1,
   "id": "e49fca10-d959-494b-8097-f88858c7fcd9",
   "metadata": {},
   "outputs": [],
   "source": [
    "a = 1\n",
    "b ='1'"
   ]
  },
  {
   "cell_type": "code",
   "execution_count": 5,
   "id": "36e2b558-7726-49a2-b573-6e9ea52ecca4",
   "metadata": {},
   "outputs": [
    {
     "name": "stdout",
     "output_type": "stream",
     "text": [
      "<class 'int'>\n"
     ]
    }
   ],
   "source": [
    "print(type(a))"
   ]
  },
  {
   "cell_type": "code",
   "execution_count": 7,
   "id": "5a38708c-3abc-40a1-a344-614fc707aefd",
   "metadata": {},
   "outputs": [
    {
     "name": "stdout",
     "output_type": "stream",
     "text": [
      "<class 'str'>\n"
     ]
    }
   ],
   "source": [
    "print(type(b))"
   ]
  },
  {
   "cell_type": "code",
   "execution_count": null,
   "id": "72b1b3ee-461c-44e7-a9ea-f3df46469ad0",
   "metadata": {},
   "outputs": [],
   "source": [
    "type devuelve tipo de dato de la variable"
   ]
  },
  {
   "cell_type": "markdown",
   "id": "7e833386-aabd-47c9-a16d-ee0749636a43",
   "metadata": {},
   "source": [
    "tipos de datos numericos: \n",
    "INTEGER: entero \n",
    "FLOATS: decimales\n",
    "COMPLEX: complejos"
   ]
  },
  {
   "cell_type": "code",
   "execution_count": 11,
   "id": "a1c12a0a-97a2-428a-becf-39e73b2fece3",
   "metadata": {},
   "outputs": [
    {
     "data": {
      "text/plain": [
       "float"
      ]
     },
     "execution_count": 11,
     "metadata": {},
     "output_type": "execute_result"
    }
   ],
   "source": [
    "type (3.2)"
   ]
  },
  {
   "cell_type": "code",
   "execution_count": 14,
   "id": "e1778002-63a0-4092-ab26-ae3a6713b186",
   "metadata": {},
   "outputs": [
    {
     "data": {
      "text/plain": [
       "complex"
      ]
     },
     "execution_count": 14,
     "metadata": {},
     "output_type": "execute_result"
    }
   ],
   "source": [
    "type (4+ 5j)"
   ]
  },
  {
   "cell_type": "code",
   "execution_count": 16,
   "id": "af62d0b6-209f-498e-b56d-2e3528923210",
   "metadata": {},
   "outputs": [],
   "source": [
    "complejo = 10+34j"
   ]
  },
  {
   "cell_type": "code",
   "execution_count": 18,
   "id": "fb043260-0f12-4aa1-9c31-ada12efc9301",
   "metadata": {},
   "outputs": [
    {
     "name": "stdout",
     "output_type": "stream",
     "text": [
      "(10+34j)\n"
     ]
    },
    {
     "data": {
      "text/plain": [
       "complex"
      ]
     },
     "execution_count": 18,
     "metadata": {},
     "output_type": "execute_result"
    }
   ],
   "source": [
    "print(complejo)\n",
    "type(complejo)"
   ]
  },
  {
   "cell_type": "code",
   "execution_count": 20,
   "id": "8a12b86e-cf5f-4c18-82e2-bdc6954fc13c",
   "metadata": {},
   "outputs": [],
   "source": [
    "e = '10'"
   ]
  },
  {
   "cell_type": "code",
   "execution_count": 22,
   "id": "8294f718-f7e6-47e8-853b-590579d5e558",
   "metadata": {},
   "outputs": [
    {
     "ename": "SyntaxError",
     "evalue": "unterminated string literal (detected at line 1) (699775244.py, line 1)",
     "output_type": "error",
     "traceback": [
      "\u001b[1;36m  Cell \u001b[1;32mIn[22], line 1\u001b[1;36m\u001b[0m\n\u001b[1;33m    e + 3'\u001b[0m\n\u001b[1;37m         ^\u001b[0m\n\u001b[1;31mSyntaxError\u001b[0m\u001b[1;31m:\u001b[0m unterminated string literal (detected at line 1)\n"
     ]
    }
   ],
   "source": [
    "e + 3'"
   ]
  },
  {
   "cell_type": "code",
   "execution_count": 24,
   "id": "82f0c8ff-d530-442b-9fe7-75df78b4517e",
   "metadata": {},
   "outputs": [
    {
     "data": {
      "text/plain": [
       "20"
      ]
     },
     "execution_count": 24,
     "metadata": {},
     "output_type": "execute_result"
    }
   ],
   "source": [
    "int(e) + 10"
   ]
  },
  {
   "cell_type": "markdown",
   "id": "90ec49a8-b506-46ff-8983-0e2b02772696",
   "metadata": {},
   "source": [
    "convierte el valor a int"
   ]
  },
  {
   "cell_type": "code",
   "execution_count": null,
   "id": "88d1e104-058b-462c-bd2a-388534500cff",
   "metadata": {},
   "outputs": [],
   "source": []
  }
 ],
 "metadata": {
  "kernelspec": {
   "display_name": "Python 3 (ipykernel)",
   "language": "python",
   "name": "python3"
  },
  "language_info": {
   "codemirror_mode": {
    "name": "ipython",
    "version": 3
   },
   "file_extension": ".py",
   "mimetype": "text/x-python",
   "name": "python",
   "nbconvert_exporter": "python",
   "pygments_lexer": "ipython3",
   "version": "3.12.4"
  }
 },
 "nbformat": 4,
 "nbformat_minor": 5
}
